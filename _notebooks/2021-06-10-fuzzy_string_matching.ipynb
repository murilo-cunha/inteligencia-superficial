{
 "cells": [
  {
   "cell_type": "markdown",
   "id": "07cc742c-7c47-418f-97fa-6c016f35696b",
   "metadata": {},
   "source": [
    "# Fuzzy string matching\n",
    "> Comparando strings e aproximando igualdades\n",
    "\n",
    "- toc: true \n",
    "- badges: true\n",
    "- comments: true\n",
    "- categories: [demo, fuzzy string matching, nlp]\n",
    "- image: https://www.the-automator.com/wp-content/uploads/2016/01/fuzzy.gif"
   ]
  },
  {
   "cell_type": "markdown",
   "id": "1b4b450e-d126-4e0e-a979-c140861217ee",
   "metadata": {},
   "source": [
    "# Introdução\n",
    "\n",
    "Várias vezes, nós temos texto como parte dos nossos dados (strings). Em várias aplicações (não só em machine learning), esses dados vem de usuários - quando você preenche um formulário, coloca seu nome, endereço, etc.\n",
    "\n",
    "O problema é que muitas pessoas não escrevem os dados igual. Por exemplo, eu ja vi meu nome escrito como `murilo`, `Murilo`, `murilio`, `murillo`, `Murilo`, `Mr. Murilo`, etc. Mas todos essas strings deveriam se referir pra mesma coisa. Como que a gente pode decidir se esses são iguais ou não?\n",
    "\n",
    "# Fuzzy string matching\n",
    "\n",
    "![](https://media.giphy.com/media/dB1CUdNMPn4aVaISWe/giphy.gif)\n",
    "\n",
    "Os algoritmos que resolvem esse problema se chamam [`fuzzy string matching`](https://en.wikipedia.org/wiki/Approximate_string_matching), ou aproximações em comparações de strings. Um algoritmo popular é a [distância Levenshtein](https://pt.wikipedia.org/wiki/Dist%C3%A2ncia_Levenshtein), que basicamente vai computando quantas alterações você teria de fazer entre as duas strings. Por exemplo, indo de `kitten` para `sitting` (exemplo do [Wikipedia](https://pt.wikipedia.org/wiki/Dist%C3%A2ncia_Levenshtein):\n",
    "\n",
    "$$kitten \\rightarrow \\textbf{s}itten\\rightarrow sitt\\textbf{i}n \\rightarrow sittin\\textbf{g}$$\n",
    "\n",
    "A distância Levenshtein nesse caso é 3, porque temos 3 transformações entre a palavra de origem e a palavra de destino:\n",
    "\n",
    "1. Substituição de `k` por `s`\n",
    "2. Substituição de `e` por `i`\n",
    "3. inserção de `g` no final\n",
    "\n",
    "E essa é a idéia principal (e passando por cima de alguns detalhes 😅). Simples, né? O algoritmo também é implementado com recursão por eficiência, mas quão efficiente é esse algoritmo? Na vida real (especialmente em machine learning), nós temos muitos dados, então é importante vermos como que esse algoritmo escala. Isso é, quanto tempo demora/quanta memória vamos usar enquando o volume de dados aumenta?\n",
    "\n",
    "## [`FuzzyWuzzy`](https://github.com/seatgeek/fuzzywuzzy)\n",
    "\n",
    "[`FuzzyWuzzy`](https://github.com/seatgeek/fuzzywuzzy) é uma biblioteca em python (bem popular) que implementa esse algoritmo. Além disso, o pacote também oferece uma versão mais rápida que faz algumas aproximações. Vamos ver como funciona o API."
   ]
  },
  {
   "cell_type": "code",
   "execution_count": 1,
   "id": "1807660b-f538-4354-abf8-6602d345ea53",
   "metadata": {},
   "outputs": [],
   "source": [
    "# hide\n",
    "!pip install 'fuzzywuzzy[speedup]' > /dev/null"
   ]
  },
  {
   "cell_type": "code",
   "execution_count": 2,
   "id": "bdf44e74-6d0e-4261-b3a3-2c08c395875f",
   "metadata": {},
   "outputs": [],
   "source": [
    "# exemplo da documentação da biblioteca\n",
    "from fuzzywuzzy import fuzz, process\n",
    "\n",
    "choices = [\"Atlanta Falcons\", \"New York Jets\", \"New York Giants\", \"Dallas Cowboys\"]"
   ]
  },
  {
   "cell_type": "code",
   "execution_count": 3,
   "id": "ba183219-605c-417c-bc70-5e7d44df798e",
   "metadata": {},
   "outputs": [
    {
     "name": "stdout",
     "output_type": "stream",
     "text": [
      "89.3 µs ± 1.1 µs per loop (mean ± std. dev. of 7 runs, 10000 loops each)\n"
     ]
    },
    {
     "data": {
      "text/plain": [
       "[('New York Jets', 100), ('New York Giants', 79)]"
      ]
     },
     "execution_count": 3,
     "metadata": {},
     "output_type": "execute_result"
    }
   ],
   "source": [
    "%timeit process.extract(\"new york jets\", choices, limit=2)  # só pra registrar o tempo\n",
    "process.extract(\"new york jets\", choices, limit=2)"
   ]
  },
  {
   "cell_type": "code",
   "execution_count": 4,
   "id": "11ff38e5-ccb9-4422-8c4b-32de43f9bbb5",
   "metadata": {},
   "outputs": [
    {
     "name": "stdout",
     "output_type": "stream",
     "text": [
      "191 µs ± 1.45 µs per loop (mean ± std. dev. of 7 runs, 10000 loops each)\n"
     ]
    },
    {
     "data": {
      "text/plain": [
       "('Dallas Cowboys', 90)"
      ]
     },
     "execution_count": 4,
     "metadata": {},
     "output_type": "execute_result"
    }
   ],
   "source": [
    "%timeit process.extractOne(\"cowboys\", choices)  # só pra registrar o tempo\n",
    "process.extractOne(\"cowboys\", choices)"
   ]
  },
  {
   "cell_type": "markdown",
   "id": "12b18b77-4f66-4e55-858b-ea9c44312ad6",
   "metadata": {},
   "source": [
    "E é isso! Mas mais uma vez, quanto tempo será que demora quando temos mais dados? Vamos ver.\n",
    "\n",
    "## Conectando datasets\n",
    "\n",
    "Um outro caso que é importante é quando temos dois datasets (tabelas nesse caso), algumas colunas tem os mesmos dados, mas elas estão escritos de maneiras diferentes! Ou então, quando os dados se repetem, e temos que deduplicar os dados. Isso acontece por exemplo quando o usuário se registra mas coloca um email ou nome errado, então preenche o formulário de novo. Vamos ver um exemplo."
   ]
  },
  {
   "cell_type": "code",
   "execution_count": 5,
   "id": "49293d39-b70a-4831-81b6-4f5bbc139d34",
   "metadata": {},
   "outputs": [],
   "source": [
    "# hide\n",
    "!pip install recordlinkage > /dev/null"
   ]
  },
  {
   "cell_type": "code",
   "execution_count": 6,
   "id": "f95b490d-2ed6-4585-a308-7a8138801fbb",
   "metadata": {},
   "outputs": [
    {
     "data": {
      "text/html": [
       "<div>\n",
       "<style scoped>\n",
       "    .dataframe tbody tr th:only-of-type {\n",
       "        vertical-align: middle;\n",
       "    }\n",
       "\n",
       "    .dataframe tbody tr th {\n",
       "        vertical-align: top;\n",
       "    }\n",
       "\n",
       "    .dataframe thead th {\n",
       "        text-align: right;\n",
       "    }\n",
       "</style>\n",
       "<table border=\"1\" class=\"dataframe\">\n",
       "  <thead>\n",
       "    <tr style=\"text-align: right;\">\n",
       "      <th></th>\n",
       "      <th>given_name</th>\n",
       "      <th>surname</th>\n",
       "      <th>street_number</th>\n",
       "      <th>address_1</th>\n",
       "      <th>address_2</th>\n",
       "      <th>suburb</th>\n",
       "      <th>postcode</th>\n",
       "      <th>state</th>\n",
       "      <th>date_of_birth</th>\n",
       "      <th>soc_sec_id</th>\n",
       "    </tr>\n",
       "    <tr>\n",
       "      <th>rec_id</th>\n",
       "      <th></th>\n",
       "      <th></th>\n",
       "      <th></th>\n",
       "      <th></th>\n",
       "      <th></th>\n",
       "      <th></th>\n",
       "      <th></th>\n",
       "      <th></th>\n",
       "      <th></th>\n",
       "      <th></th>\n",
       "    </tr>\n",
       "  </thead>\n",
       "  <tbody>\n",
       "    <tr>\n",
       "      <th>rec-223-org</th>\n",
       "      <td>NaN</td>\n",
       "      <td>waller</td>\n",
       "      <td>6</td>\n",
       "      <td>tullaroop street</td>\n",
       "      <td>willaroo</td>\n",
       "      <td>st james</td>\n",
       "      <td>4011</td>\n",
       "      <td>wa</td>\n",
       "      <td>19081209</td>\n",
       "      <td>6988048</td>\n",
       "    </tr>\n",
       "    <tr>\n",
       "      <th>rec-122-org</th>\n",
       "      <td>lachlan</td>\n",
       "      <td>berry</td>\n",
       "      <td>69</td>\n",
       "      <td>giblin street</td>\n",
       "      <td>killarney</td>\n",
       "      <td>bittern</td>\n",
       "      <td>4814</td>\n",
       "      <td>qld</td>\n",
       "      <td>19990219</td>\n",
       "      <td>7364009</td>\n",
       "    </tr>\n",
       "    <tr>\n",
       "      <th>rec-373-org</th>\n",
       "      <td>deakin</td>\n",
       "      <td>sondergeld</td>\n",
       "      <td>48</td>\n",
       "      <td>goldfinch circuit</td>\n",
       "      <td>kooltuo</td>\n",
       "      <td>canterbury</td>\n",
       "      <td>2776</td>\n",
       "      <td>vic</td>\n",
       "      <td>19600210</td>\n",
       "      <td>2635962</td>\n",
       "    </tr>\n",
       "    <tr>\n",
       "      <th>rec-10-dup-0</th>\n",
       "      <td>kayla</td>\n",
       "      <td>harrington</td>\n",
       "      <td>NaN</td>\n",
       "      <td>maltby circuit</td>\n",
       "      <td>coaling</td>\n",
       "      <td>coolaroo</td>\n",
       "      <td>3465</td>\n",
       "      <td>nsw</td>\n",
       "      <td>19150612</td>\n",
       "      <td>9004242</td>\n",
       "    </tr>\n",
       "    <tr>\n",
       "      <th>rec-227-org</th>\n",
       "      <td>luke</td>\n",
       "      <td>purdon</td>\n",
       "      <td>23</td>\n",
       "      <td>ramsay place</td>\n",
       "      <td>mirani</td>\n",
       "      <td>garbutt</td>\n",
       "      <td>2260</td>\n",
       "      <td>vic</td>\n",
       "      <td>19831024</td>\n",
       "      <td>8099933</td>\n",
       "    </tr>\n",
       "  </tbody>\n",
       "</table>\n",
       "</div>"
      ],
      "text/plain": [
       "             given_name     surname street_number          address_1  \\\n",
       "rec_id                                                                 \n",
       "rec-223-org         NaN      waller             6   tullaroop street   \n",
       "rec-122-org     lachlan       berry            69      giblin street   \n",
       "rec-373-org      deakin  sondergeld            48  goldfinch circuit   \n",
       "rec-10-dup-0      kayla  harrington           NaN     maltby circuit   \n",
       "rec-227-org        luke      purdon            23       ramsay place   \n",
       "\n",
       "              address_2      suburb postcode state date_of_birth soc_sec_id  \n",
       "rec_id                                                                       \n",
       "rec-223-org    willaroo    st james     4011    wa      19081209    6988048  \n",
       "rec-122-org   killarney     bittern     4814   qld      19990219    7364009  \n",
       "rec-373-org     kooltuo  canterbury     2776   vic      19600210    2635962  \n",
       "rec-10-dup-0    coaling    coolaroo     3465   nsw      19150612    9004242  \n",
       "rec-227-org      mirani     garbutt     2260   vic      19831024    8099933  "
      ]
     },
     "execution_count": 6,
     "metadata": {},
     "output_type": "execute_result"
    }
   ],
   "source": [
    "import pandas as pd\n",
    "from recordlinkage.datasets import load_febrl1\n",
    "\n",
    "df = load_febrl1()\n",
    "df.head()"
   ]
  },
  {
   "cell_type": "markdown",
   "id": "cb159f7f-65ad-4298-8408-728f2a3cb3f9",
   "metadata": {},
   "source": [
    "Vamos focar no nome completo, ou seja o `given_name` e `surname`"
   ]
  },
  {
   "cell_type": "code",
   "execution_count": 7,
   "id": "c5d394fc-c5cf-4ffc-aaa8-4571ff8b900d",
   "metadata": {},
   "outputs": [
    {
     "data": {
      "text/html": [
       "<div>\n",
       "<style scoped>\n",
       "    .dataframe tbody tr th:only-of-type {\n",
       "        vertical-align: middle;\n",
       "    }\n",
       "\n",
       "    .dataframe tbody tr th {\n",
       "        vertical-align: top;\n",
       "    }\n",
       "\n",
       "    .dataframe thead th {\n",
       "        text-align: right;\n",
       "    }\n",
       "</style>\n",
       "<table border=\"1\" class=\"dataframe\">\n",
       "  <thead>\n",
       "    <tr style=\"text-align: right;\">\n",
       "      <th></th>\n",
       "      <th>rec_id</th>\n",
       "      <th>full_name</th>\n",
       "    </tr>\n",
       "  </thead>\n",
       "  <tbody>\n",
       "    <tr>\n",
       "      <th>0</th>\n",
       "      <td>rec-223-org</td>\n",
       "      <td>waller</td>\n",
       "    </tr>\n",
       "    <tr>\n",
       "      <th>1</th>\n",
       "      <td>rec-122-org</td>\n",
       "      <td>lachlan berry</td>\n",
       "    </tr>\n",
       "    <tr>\n",
       "      <th>2</th>\n",
       "      <td>rec-373-org</td>\n",
       "      <td>deakin sondergeld</td>\n",
       "    </tr>\n",
       "    <tr>\n",
       "      <th>3</th>\n",
       "      <td>rec-10-dup-0</td>\n",
       "      <td>kayla harrington</td>\n",
       "    </tr>\n",
       "    <tr>\n",
       "      <th>4</th>\n",
       "      <td>rec-227-org</td>\n",
       "      <td>luke purdon</td>\n",
       "    </tr>\n",
       "  </tbody>\n",
       "</table>\n",
       "</div>"
      ],
      "text/plain": [
       "         rec_id          full_name\n",
       "0   rec-223-org             waller\n",
       "1   rec-122-org      lachlan berry\n",
       "2   rec-373-org  deakin sondergeld\n",
       "3  rec-10-dup-0   kayla harrington\n",
       "4   rec-227-org        luke purdon"
      ]
     },
     "execution_count": 7,
     "metadata": {},
     "output_type": "execute_result"
    }
   ],
   "source": [
    "# collapse\n",
    "df[[\"given_name\", \"surname\"]] = df[[\"given_name\", \"surname\"]].fillna(\"\")\n",
    "df[\"full_name\"] = df[\"given_name\"] + \" \" + df[\"surname\"]\n",
    "df = df[[\"full_name\"]].reset_index()\n",
    "df.head()"
   ]
  },
  {
   "cell_type": "markdown",
   "id": "7e6acec3-4e79-40f8-823e-a41b9f8c95f1",
   "metadata": {},
   "source": [
    "Vamos fazer todas as comparações possíveis! Esse dataset tem só 500 entradas então não tem muito problema"
   ]
  },
  {
   "cell_type": "code",
   "execution_count": 8,
   "id": "5a0d30a4-d67a-4058-9847-102767bf2493",
   "metadata": {
    "tags": []
   },
   "outputs": [
    {
     "data": {
      "text/html": [
       "<div>\n",
       "<style scoped>\n",
       "    .dataframe tbody tr th:only-of-type {\n",
       "        vertical-align: middle;\n",
       "    }\n",
       "\n",
       "    .dataframe tbody tr th {\n",
       "        vertical-align: top;\n",
       "    }\n",
       "\n",
       "    .dataframe thead th {\n",
       "        text-align: right;\n",
       "    }\n",
       "</style>\n",
       "<table border=\"1\" class=\"dataframe\">\n",
       "  <thead>\n",
       "    <tr style=\"text-align: right;\">\n",
       "      <th></th>\n",
       "      <th>rec_id_x</th>\n",
       "      <th>rec_id_y</th>\n",
       "      <th>full_name_x</th>\n",
       "      <th>full_name_y</th>\n",
       "      <th>names</th>\n",
       "    </tr>\n",
       "  </thead>\n",
       "  <tbody>\n",
       "    <tr>\n",
       "      <th>0</th>\n",
       "      <td>rec-498-dup-0</td>\n",
       "      <td>rec-372-dup-0</td>\n",
       "      <td>claire crook</td>\n",
       "      <td>talia ho</td>\n",
       "      <td>(claire crook, talia ho)</td>\n",
       "    </tr>\n",
       "    <tr>\n",
       "      <th>1</th>\n",
       "      <td>rec-484-org</td>\n",
       "      <td>rec-220-org</td>\n",
       "      <td>jacynta hoffman</td>\n",
       "      <td>tyler heerey</td>\n",
       "      <td>(jacynta hoffman, tyler heerey)</td>\n",
       "    </tr>\n",
       "    <tr>\n",
       "      <th>2</th>\n",
       "      <td>rec-410-dup-0</td>\n",
       "      <td>rec-261-dup-0</td>\n",
       "      <td>sachin connerty</td>\n",
       "      <td>wilde</td>\n",
       "      <td>(sachin connerty,  wilde)</td>\n",
       "    </tr>\n",
       "    <tr>\n",
       "      <th>3</th>\n",
       "      <td>rec-54-org</td>\n",
       "      <td>rec-246-dup-0</td>\n",
       "      <td>emiily morrison</td>\n",
       "      <td>burford jack</td>\n",
       "      <td>(emiily morrison, burford jack)</td>\n",
       "    </tr>\n",
       "    <tr>\n",
       "      <th>4</th>\n",
       "      <td>rec-370-dup-0</td>\n",
       "      <td>rec-386-dup-0</td>\n",
       "      <td>rourke webv</td>\n",
       "      <td>dylan dolby</td>\n",
       "      <td>(rourke webv, dylan dolby)</td>\n",
       "    </tr>\n",
       "  </tbody>\n",
       "</table>\n",
       "</div>"
      ],
      "text/plain": [
       "        rec_id_x       rec_id_y      full_name_x   full_name_y  \\\n",
       "0  rec-498-dup-0  rec-372-dup-0     claire crook      talia ho   \n",
       "1    rec-484-org    rec-220-org  jacynta hoffman  tyler heerey   \n",
       "2  rec-410-dup-0  rec-261-dup-0  sachin connerty         wilde   \n",
       "3     rec-54-org  rec-246-dup-0  emiily morrison  burford jack   \n",
       "4  rec-370-dup-0  rec-386-dup-0      rourke webv   dylan dolby   \n",
       "\n",
       "                             names  \n",
       "0         (claire crook, talia ho)  \n",
       "1  (jacynta hoffman, tyler heerey)  \n",
       "2        (sachin connerty,  wilde)  \n",
       "3  (emiily morrison, burford jack)  \n",
       "4       (rourke webv, dylan dolby)  "
      ]
     },
     "execution_count": 8,
     "metadata": {},
     "output_type": "execute_result"
    }
   ],
   "source": [
    "# collapse\n",
    "df = df.merge(df, how=\"cross\").sample(\n",
    "    frac=1, random_state=42\n",
    ")  # cria todas as combinações e depois mistura as linhas\n",
    "df = df[\n",
    "    df[\"full_name_x\"] != df[\"full_name_y\"]\n",
    "]  # vamos retirar as que são exatamente iguais\n",
    "df = df[[\"rec_id_x\", \"rec_id_y\", \"full_name_x\", \"full_name_y\"]].reset_index(\n",
    "    drop=True\n",
    ")  # reorganizando as colunas\n",
    "df[\"names\"] = pd.Series(\n",
    "    zip(df[\"full_name_x\"], df[\"full_name_y\"])\n",
    ")  # criando a coluna pra comparar os nomes\n",
    "df.head()"
   ]
  },
  {
   "cell_type": "markdown",
   "id": "a31aa265-2599-4fa0-a0a8-2d03dbbe4b79",
   "metadata": {},
   "source": [
    "E agora podemos computar o algoritmo!"
   ]
  },
  {
   "cell_type": "code",
   "execution_count": 9,
   "id": "0d241741-6917-477f-8efb-2d30b44e1ebe",
   "metadata": {},
   "outputs": [
    {
     "name": "stdout",
     "output_type": "stream",
     "text": [
      "CPU times: user 2.94 s, sys: 59.6 ms, total: 3 s\n",
      "Wall time: 3.03 s\n"
     ]
    },
    {
     "data": {
      "text/html": [
       "<div>\n",
       "<style scoped>\n",
       "    .dataframe tbody tr th:only-of-type {\n",
       "        vertical-align: middle;\n",
       "    }\n",
       "\n",
       "    .dataframe tbody tr th {\n",
       "        vertical-align: top;\n",
       "    }\n",
       "\n",
       "    .dataframe thead th {\n",
       "        text-align: right;\n",
       "    }\n",
       "</style>\n",
       "<table border=\"1\" class=\"dataframe\">\n",
       "  <thead>\n",
       "    <tr style=\"text-align: right;\">\n",
       "      <th></th>\n",
       "      <th>rec_id_x</th>\n",
       "      <th>rec_id_y</th>\n",
       "      <th>full_name_x</th>\n",
       "      <th>full_name_y</th>\n",
       "      <th>names</th>\n",
       "      <th>fuzzywuzzy</th>\n",
       "    </tr>\n",
       "  </thead>\n",
       "  <tbody>\n",
       "    <tr>\n",
       "      <th>0</th>\n",
       "      <td>rec-498-dup-0</td>\n",
       "      <td>rec-372-dup-0</td>\n",
       "      <td>claire crook</td>\n",
       "      <td>talia ho</td>\n",
       "      <td>(claire crook, talia ho)</td>\n",
       "      <td>40</td>\n",
       "    </tr>\n",
       "    <tr>\n",
       "      <th>1</th>\n",
       "      <td>rec-484-org</td>\n",
       "      <td>rec-220-org</td>\n",
       "      <td>jacynta hoffman</td>\n",
       "      <td>tyler heerey</td>\n",
       "      <td>(jacynta hoffman, tyler heerey)</td>\n",
       "      <td>22</td>\n",
       "    </tr>\n",
       "    <tr>\n",
       "      <th>2</th>\n",
       "      <td>rec-410-dup-0</td>\n",
       "      <td>rec-261-dup-0</td>\n",
       "      <td>sachin connerty</td>\n",
       "      <td>wilde</td>\n",
       "      <td>(sachin connerty,  wilde)</td>\n",
       "      <td>19</td>\n",
       "    </tr>\n",
       "    <tr>\n",
       "      <th>3</th>\n",
       "      <td>rec-54-org</td>\n",
       "      <td>rec-246-dup-0</td>\n",
       "      <td>emiily morrison</td>\n",
       "      <td>burford jack</td>\n",
       "      <td>(emiily morrison, burford jack)</td>\n",
       "      <td>15</td>\n",
       "    </tr>\n",
       "    <tr>\n",
       "      <th>4</th>\n",
       "      <td>rec-370-dup-0</td>\n",
       "      <td>rec-386-dup-0</td>\n",
       "      <td>rourke webv</td>\n",
       "      <td>dylan dolby</td>\n",
       "      <td>(rourke webv, dylan dolby)</td>\n",
       "      <td>18</td>\n",
       "    </tr>\n",
       "  </tbody>\n",
       "</table>\n",
       "</div>"
      ],
      "text/plain": [
       "        rec_id_x       rec_id_y      full_name_x   full_name_y  \\\n",
       "0  rec-498-dup-0  rec-372-dup-0     claire crook      talia ho   \n",
       "1    rec-484-org    rec-220-org  jacynta hoffman  tyler heerey   \n",
       "2  rec-410-dup-0  rec-261-dup-0  sachin connerty         wilde   \n",
       "3     rec-54-org  rec-246-dup-0  emiily morrison  burford jack   \n",
       "4  rec-370-dup-0  rec-386-dup-0      rourke webv   dylan dolby   \n",
       "\n",
       "                             names  fuzzywuzzy  \n",
       "0         (claire crook, talia ho)          40  \n",
       "1  (jacynta hoffman, tyler heerey)          22  \n",
       "2        (sachin connerty,  wilde)          19  \n",
       "3  (emiily morrison, burford jack)          15  \n",
       "4       (rourke webv, dylan dolby)          18  "
      ]
     },
     "execution_count": 9,
     "metadata": {},
     "output_type": "execute_result"
    }
   ],
   "source": [
    "%%time\n",
    "df[\"fuzzywuzzy\"] = df[\"names\"].apply(lambda x: fuzz.ratio(x[0], x[1]))\n",
    "df.head()"
   ]
  },
  {
   "cell_type": "markdown",
   "id": "13e7c65b-c116-4efd-9b9c-2f772fce948f",
   "metadata": {},
   "source": [
    "Para a nossa tabela com 998512 linhas, o algoritmo demorou 2.9 segundos. Nada mal. E as comparações parecem boas! Alguns exemplos de igualdade:"
   ]
  },
  {
   "cell_type": "code",
   "execution_count": 10,
   "id": "69b941a9-b4d3-4f5d-9e40-467b2a8c0ae6",
   "metadata": {},
   "outputs": [
    {
     "data": {
      "text/html": [
       "<div>\n",
       "<style scoped>\n",
       "    .dataframe tbody tr th:only-of-type {\n",
       "        vertical-align: middle;\n",
       "    }\n",
       "\n",
       "    .dataframe tbody tr th {\n",
       "        vertical-align: top;\n",
       "    }\n",
       "\n",
       "    .dataframe thead th {\n",
       "        text-align: right;\n",
       "    }\n",
       "</style>\n",
       "<table border=\"1\" class=\"dataframe\">\n",
       "  <thead>\n",
       "    <tr style=\"text-align: right;\">\n",
       "      <th></th>\n",
       "      <th>full_name_x</th>\n",
       "      <th>full_name_y</th>\n",
       "      <th>fuzzywuzzy</th>\n",
       "    </tr>\n",
       "  </thead>\n",
       "  <tbody>\n",
       "    <tr>\n",
       "      <th>926629</th>\n",
       "      <td>charldotte campbell</td>\n",
       "      <td>charlotte campbell</td>\n",
       "      <td>97</td>\n",
       "    </tr>\n",
       "    <tr>\n",
       "      <th>463495</th>\n",
       "      <td>lucas rawldings</td>\n",
       "      <td>lucas rawlings</td>\n",
       "      <td>97</td>\n",
       "    </tr>\n",
       "    <tr>\n",
       "      <th>890513</th>\n",
       "      <td>john van't hof</td>\n",
       "      <td>john van'wt hof</td>\n",
       "      <td>97</td>\n",
       "    </tr>\n",
       "    <tr>\n",
       "      <th>969177</th>\n",
       "      <td>jaden humphkreys</td>\n",
       "      <td>jaden humphreys</td>\n",
       "      <td>97</td>\n",
       "    </tr>\n",
       "    <tr>\n",
       "      <th>680776</th>\n",
       "      <td>kirah mccarthy</td>\n",
       "      <td>kirrah mccarthy</td>\n",
       "      <td>97</td>\n",
       "    </tr>\n",
       "  </tbody>\n",
       "</table>\n",
       "</div>"
      ],
      "text/plain": [
       "                full_name_x         full_name_y  fuzzywuzzy\n",
       "926629  charldotte campbell  charlotte campbell          97\n",
       "463495      lucas rawldings      lucas rawlings          97\n",
       "890513       john van't hof     john van'wt hof          97\n",
       "969177     jaden humphkreys     jaden humphreys          97\n",
       "680776       kirah mccarthy     kirrah mccarthy          97"
      ]
     },
     "execution_count": 10,
     "metadata": {},
     "output_type": "execute_result"
    }
   ],
   "source": [
    "df[[\"full_name_x\", \"full_name_y\", \"fuzzywuzzy\"]].sort_values(\n",
    "    by=\"fuzzywuzzy\", ascending=False\n",
    ").head()"
   ]
  },
  {
   "cell_type": "markdown",
   "id": "8b2721c8-d35d-48b5-bf90-53596be49ef0",
   "metadata": {},
   "source": [
    "E alguns exemplos de desigualdade:"
   ]
  },
  {
   "cell_type": "code",
   "execution_count": 11,
   "id": "c3f2b0f6-fdbc-4911-87fb-0a32f8d24364",
   "metadata": {},
   "outputs": [
    {
     "data": {
      "text/html": [
       "<div>\n",
       "<style scoped>\n",
       "    .dataframe tbody tr th:only-of-type {\n",
       "        vertical-align: middle;\n",
       "    }\n",
       "\n",
       "    .dataframe tbody tr th {\n",
       "        vertical-align: top;\n",
       "    }\n",
       "\n",
       "    .dataframe thead th {\n",
       "        text-align: right;\n",
       "    }\n",
       "</style>\n",
       "<table border=\"1\" class=\"dataframe\">\n",
       "  <thead>\n",
       "    <tr style=\"text-align: right;\">\n",
       "      <th></th>\n",
       "      <th>full_name_x</th>\n",
       "      <th>full_name_y</th>\n",
       "      <th>fuzzywuzzy</th>\n",
       "    </tr>\n",
       "  </thead>\n",
       "  <tbody>\n",
       "    <tr>\n",
       "      <th>689287</th>\n",
       "      <td>ruby riding</td>\n",
       "      <td>takeisha smallacombe</td>\n",
       "      <td>6</td>\n",
       "    </tr>\n",
       "    <tr>\n",
       "      <th>585410</th>\n",
       "      <td>timothy mccarthy</td>\n",
       "      <td>annablle kounis</td>\n",
       "      <td>6</td>\n",
       "    </tr>\n",
       "    <tr>\n",
       "      <th>232904</th>\n",
       "      <td>jacynta hoffman</td>\n",
       "      <td>brooke durbridge</td>\n",
       "      <td>6</td>\n",
       "    </tr>\n",
       "    <tr>\n",
       "      <th>775239</th>\n",
       "      <td>annablle kounis</td>\n",
       "      <td>timothy mccarthy</td>\n",
       "      <td>6</td>\n",
       "    </tr>\n",
       "    <tr>\n",
       "      <th>148505</th>\n",
       "      <td>brooke durbridge</td>\n",
       "      <td>jacynta hoffman</td>\n",
       "      <td>6</td>\n",
       "    </tr>\n",
       "  </tbody>\n",
       "</table>\n",
       "</div>"
      ],
      "text/plain": [
       "             full_name_x           full_name_y  fuzzywuzzy\n",
       "689287       ruby riding  takeisha smallacombe           6\n",
       "585410  timothy mccarthy       annablle kounis           6\n",
       "232904   jacynta hoffman      brooke durbridge           6\n",
       "775239   annablle kounis      timothy mccarthy           6\n",
       "148505  brooke durbridge       jacynta hoffman           6"
      ]
     },
     "execution_count": 11,
     "metadata": {},
     "output_type": "execute_result"
    }
   ],
   "source": [
    "df[[\"full_name_x\", \"full_name_y\", \"fuzzywuzzy\"]].sort_values(\n",
    "    by=\"fuzzywuzzy\", ascending=False\n",
    ").tail()"
   ]
  },
  {
   "cell_type": "markdown",
   "id": "4f458086-c674-46c1-86f8-72fcb13d3ee2",
   "metadata": {},
   "source": [
    "Vamos olhar o tempo mais de perto... Será que a gente poderia melhorar isso?"
   ]
  },
  {
   "cell_type": "code",
   "execution_count": 12,
   "id": "308b1f1f-a43a-4a4e-b4c4-0ff97a3ff8a2",
   "metadata": {},
   "outputs": [
    {
     "name": "stdout",
     "output_type": "stream",
     "text": [
      "2.99 s ± 44.4 ms per loop (mean ± std. dev. of 7 runs, 1 loop each)\n"
     ]
    }
   ],
   "source": [
    "%timeit df[\"names\"].apply(lambda x: fuzz.ratio(x[0], x[1]))"
   ]
  },
  {
   "cell_type": "markdown",
   "id": "e14d66e2-200e-4576-be41-eec78e715463",
   "metadata": {},
   "source": [
    "## [`RapidFuzz`](https://github.com/maxbachmann/RapidFuzz)\n",
    "\n",
    "[`RapidFuzz`](https://github.com/maxbachmann/RapidFuzz) é uma outra biblioteca em python. Mais nova, que tem algumas pequenas diferenças:\n",
    "- A licença que eles estão usando é mais permissiva. Aqui você está livre pra usar qualquer licença no seu projeto (no `FuzzyWuzzy` você era obrigado a usar uma licença GPL). Não muito interessante 🥱\n",
    "- É mais rapida! Tem algumas melhorias na parte da implementação do algoritmo mas também é implementada em C++!!⚡️⚡️\n",
    "\n",
    "![](https://media.giphy.com/media/HdcimOKferlkI/giphy.gif)\n",
    "\n",
    "O quão mais rápida? Vamos ver.\n",
    "\n",
    "Usando a mesma estratégia de antes:"
   ]
  },
  {
   "cell_type": "code",
   "execution_count": 13,
   "id": "62d089c0-8121-446a-89e3-86ad3557e08f",
   "metadata": {},
   "outputs": [],
   "source": [
    "# hide\n",
    "!pip install rapidfuzz > /dev/null"
   ]
  },
  {
   "cell_type": "code",
   "execution_count": 14,
   "id": "1754fe50-9d27-47e3-b622-35118263ed7e",
   "metadata": {},
   "outputs": [],
   "source": [
    "# usando os mesmo exemplos do início (e também na biblioteca)\n",
    "from rapidfuzz import fuzz, process\n",
    "\n",
    "choices = [\"Atlanta Falcons\", \"New York Jets\", \"New York Giants\", \"Dallas Cowboys\"]"
   ]
  },
  {
   "cell_type": "code",
   "execution_count": 15,
   "id": "98ea43fc-b463-4d95-a8f7-0ce337aa0550",
   "metadata": {},
   "outputs": [
    {
     "name": "stdout",
     "output_type": "stream",
     "text": [
      "8.23 µs ± 173 ns per loop (mean ± std. dev. of 7 runs, 100000 loops each)\n"
     ]
    },
    {
     "data": {
      "text/plain": [
       "[('New York Jets', 100.0, 1), ('New York Giants', 78.57142857142857, 2)]"
      ]
     },
     "execution_count": 15,
     "metadata": {},
     "output_type": "execute_result"
    }
   ],
   "source": [
    "%timeit process.extract(\"new york jets\", choices, limit=2)  # só pra registrar o tempo\n",
    "process.extract(\"new york jets\", choices, limit=2)"
   ]
  },
  {
   "cell_type": "code",
   "execution_count": 16,
   "id": "f610b909-a001-44f6-b924-739ce6b087cc",
   "metadata": {},
   "outputs": [
    {
     "name": "stdout",
     "output_type": "stream",
     "text": [
      "14.4 µs ± 236 ns per loop (mean ± std. dev. of 7 runs, 100000 loops each)\n"
     ]
    },
    {
     "data": {
      "text/plain": [
       "('Dallas Cowboys', 90.0, 3)"
      ]
     },
     "execution_count": 16,
     "metadata": {},
     "output_type": "execute_result"
    }
   ],
   "source": [
    "%timeit process.extractOne(\"cowboys\", choices) # só pra registrar o tempo\n",
    "process.extractOne(\"cowboys\", choices)"
   ]
  },
  {
   "cell_type": "markdown",
   "id": "a5c965c8-5ab9-4b32-b8ed-e37c726e007e",
   "metadata": {},
   "source": [
    "Antes o código demorou 89.3µs e 191µs, respectivamente. Agora, demoramos 8.23µs e 14.4µs (**<10%** do tempo de antes)! Mas como escala? Vamos de novo olhar pro exemplo da deduplicação de dados:"
   ]
  },
  {
   "cell_type": "code",
   "execution_count": 20,
   "id": "5b54385f-35d6-4d18-ae04-febcc062d2f7",
   "metadata": {},
   "outputs": [
    {
     "name": "stdout",
     "output_type": "stream",
     "text": [
      "CPU times: user 419 ms, sys: 26.7 ms, total: 445 ms\n",
      "Wall time: 449 ms\n"
     ]
    },
    {
     "data": {
      "text/html": [
       "<div>\n",
       "<style scoped>\n",
       "    .dataframe tbody tr th:only-of-type {\n",
       "        vertical-align: middle;\n",
       "    }\n",
       "\n",
       "    .dataframe tbody tr th {\n",
       "        vertical-align: top;\n",
       "    }\n",
       "\n",
       "    .dataframe thead th {\n",
       "        text-align: right;\n",
       "    }\n",
       "</style>\n",
       "<table border=\"1\" class=\"dataframe\">\n",
       "  <thead>\n",
       "    <tr style=\"text-align: right;\">\n",
       "      <th></th>\n",
       "      <th>rec_id_x</th>\n",
       "      <th>rec_id_y</th>\n",
       "      <th>full_name_x</th>\n",
       "      <th>full_name_y</th>\n",
       "      <th>names</th>\n",
       "      <th>fuzzywuzzy</th>\n",
       "      <th>RapidFuzz</th>\n",
       "      <th>rapidfuzz</th>\n",
       "    </tr>\n",
       "  </thead>\n",
       "  <tbody>\n",
       "    <tr>\n",
       "      <th>0</th>\n",
       "      <td>rec-498-dup-0</td>\n",
       "      <td>rec-372-dup-0</td>\n",
       "      <td>claire crook</td>\n",
       "      <td>talia ho</td>\n",
       "      <td>(claire crook, talia ho)</td>\n",
       "      <td>40</td>\n",
       "      <td>40.000000</td>\n",
       "      <td>40.000000</td>\n",
       "    </tr>\n",
       "    <tr>\n",
       "      <th>1</th>\n",
       "      <td>rec-484-org</td>\n",
       "      <td>rec-220-org</td>\n",
       "      <td>jacynta hoffman</td>\n",
       "      <td>tyler heerey</td>\n",
       "      <td>(jacynta hoffman, tyler heerey)</td>\n",
       "      <td>22</td>\n",
       "      <td>22.222222</td>\n",
       "      <td>22.222222</td>\n",
       "    </tr>\n",
       "    <tr>\n",
       "      <th>2</th>\n",
       "      <td>rec-410-dup-0</td>\n",
       "      <td>rec-261-dup-0</td>\n",
       "      <td>sachin connerty</td>\n",
       "      <td>wilde</td>\n",
       "      <td>(sachin connerty,  wilde)</td>\n",
       "      <td>19</td>\n",
       "      <td>19.047619</td>\n",
       "      <td>19.047619</td>\n",
       "    </tr>\n",
       "    <tr>\n",
       "      <th>3</th>\n",
       "      <td>rec-54-org</td>\n",
       "      <td>rec-246-dup-0</td>\n",
       "      <td>emiily morrison</td>\n",
       "      <td>burford jack</td>\n",
       "      <td>(emiily morrison, burford jack)</td>\n",
       "      <td>15</td>\n",
       "      <td>14.814815</td>\n",
       "      <td>14.814815</td>\n",
       "    </tr>\n",
       "    <tr>\n",
       "      <th>4</th>\n",
       "      <td>rec-370-dup-0</td>\n",
       "      <td>rec-386-dup-0</td>\n",
       "      <td>rourke webv</td>\n",
       "      <td>dylan dolby</td>\n",
       "      <td>(rourke webv, dylan dolby)</td>\n",
       "      <td>18</td>\n",
       "      <td>18.181818</td>\n",
       "      <td>18.181818</td>\n",
       "    </tr>\n",
       "  </tbody>\n",
       "</table>\n",
       "</div>"
      ],
      "text/plain": [
       "        rec_id_x       rec_id_y      full_name_x   full_name_y  \\\n",
       "0  rec-498-dup-0  rec-372-dup-0     claire crook      talia ho   \n",
       "1    rec-484-org    rec-220-org  jacynta hoffman  tyler heerey   \n",
       "2  rec-410-dup-0  rec-261-dup-0  sachin connerty         wilde   \n",
       "3     rec-54-org  rec-246-dup-0  emiily morrison  burford jack   \n",
       "4  rec-370-dup-0  rec-386-dup-0      rourke webv   dylan dolby   \n",
       "\n",
       "                             names  fuzzywuzzy  RapidFuzz  rapidfuzz  \n",
       "0         (claire crook, talia ho)          40  40.000000  40.000000  \n",
       "1  (jacynta hoffman, tyler heerey)          22  22.222222  22.222222  \n",
       "2        (sachin connerty,  wilde)          19  19.047619  19.047619  \n",
       "3  (emiily morrison, burford jack)          15  14.814815  14.814815  \n",
       "4       (rourke webv, dylan dolby)          18  18.181818  18.181818  "
      ]
     },
     "execution_count": 20,
     "metadata": {},
     "output_type": "execute_result"
    }
   ],
   "source": [
    "%%time\n",
    "df[\"rapidfuzz\"] = df[\"names\"].apply(lambda x: fuzz.ratio(x[0], x[1]))\n",
    "df.head()"
   ]
  },
  {
   "cell_type": "markdown",
   "id": "57e98457-2439-4187-8f51-7089d19003a7",
   "metadata": {},
   "source": [
    "E os resultados dos dois algoritmos são exatamente iguais! (Com a pequena excessão que o `FuzzyWuzzy` retorna números inteiros e o `RapidFuzz` retorna frações)"
   ]
  },
  {
   "cell_type": "code",
   "execution_count": 21,
   "id": "8af1948b-6f42-4283-bf35-5de715b0c1c3",
   "metadata": {},
   "outputs": [],
   "source": [
    "# hide\n",
    "assert (df.rapidfuzz.round() == df.fuzzywuzzy).all()"
   ]
  },
  {
   "cell_type": "code",
   "execution_count": 22,
   "id": "a8d65bbe-ce28-4dc1-82a0-c2e1377e411c",
   "metadata": {},
   "outputs": [
    {
     "name": "stdout",
     "output_type": "stream",
     "text": [
      "445 ms ± 25 ms per loop (mean ± std. dev. of 7 runs, 1 loop each)\n"
     ]
    }
   ],
   "source": [
    "%timeit df[\"names\"].apply(lambda x: fuzz.ratio(x[0], x[1]))"
   ]
  },
  {
   "cell_type": "markdown",
   "id": "2bca31dd-ae18-4be4-bf2d-76d71e74c7ab",
   "metadata": {},
   "source": [
    "Menos 15% do tempo de antes!! Só trocando a biblioteca!\n",
    "\n",
    "![](https://media.giphy.com/media/w9xG5hsxZlqtevPlJQ/giphy.gif)\n",
    "\n",
    "Além disso a documentação faz mais comparações pra diferentes tarefas e como são os números com a maior quantidade de dados.\n",
    "\n",
    "![numero de pares de palavras comparadas por segundo](https://raw.githubusercontent.com/maxbachmann/RapidFuzz/main/docs/img/scorer.svg?sanitize=true)\n",
    "\n",
    "Pra mais gráficos, fica a [documentação](https://maxbachmann.github.io/RapidFuzz/fuzz.html).\n",
    "\n",
    "# Uma última coisa...\n",
    "\n",
    "> A gente pode melhorar isso ainda mais quando quisermos deduplicar linhas na minha tabela?\n",
    "\n",
    "Sim. Mas não na parte algoritmica. Na vida real, temos também de ser espertos na hora de computar as coisas. Se estivermos comparando endereços por exemplo, a rua e número talvez estejam diferentes, mas a cidade e estado provavelmente não, especialmente porque numa grande parte esses vem de um dropdown, então os dados vem \"limpos\".\n",
    "\n",
    "Nesses casos, ao invés de criar todas as combinações possiveis, a gente pode criar as combinações dentro de cada grupo - no nosso exemplo quando os estados e cidades são iguais. Reduzindo o número de combinações já reduz bastante o trabalho. E na maioria dos casos, é **ai** que temos os maiores ganhos. E ainda por cima, existem bibliotecas como o [`Record Linkage Toolkit`](https://github.com/J535D165/recordlinkage) que são feitos exatamente pra isso.\n",
    "\n",
    "Ou seja, as vezes é melhor sentar e pensar antes de ficar quebrando a cabeça em como otimizar um algoritmo. 😇\n",
    "\n",
    "![](https://media.giphy.com/media/mRh4cLIYhrs9G/giphy.gif)"
   ]
  },
  {
   "cell_type": "code",
   "execution_count": null,
   "id": "1a117779-d62c-4b16-9a6b-de4a8795e139",
   "metadata": {},
   "outputs": [],
   "source": []
  }
 ],
 "metadata": {
  "kernelspec": {
   "display_name": "Python 3",
   "language": "python",
   "name": "python3"
  },
  "language_info": {
   "codemirror_mode": {
    "name": "ipython",
    "version": 3
   },
   "file_extension": ".py",
   "mimetype": "text/x-python",
   "name": "python",
   "nbconvert_exporter": "python",
   "pygments_lexer": "ipython3",
   "version": "3.8.10"
  }
 },
 "nbformat": 4,
 "nbformat_minor": 5
}
