{
 "cells": [
  {
   "cell_type": "markdown",
   "metadata": {},
   "source": [
    "# Regressão Linear\n",
    "> Encontrando a melhor linha\n",
    "\n",
    "- toc: true \n",
    "- badges: true\n",
    "- comments: true\n",
    "- categories: [machine learning, aprendizado supervisionado]\n",
    "<!-- - image: images/chart-preview.png -->"
   ]
  },
  {
   "cell_type": "markdown",
   "metadata": {},
   "source": [
    "## TL;DR\n",
    "\n",
    "Regressão linear é um modelo supervisionado de machine learning, que busca encontrar a linha que melhor representa um grupo de pontos.\n",
    "\n",
    "---"
   ]
  },
  {
   "cell_type": "markdown",
   "metadata": {},
   "source": [
    "# Senta que lá vem história...\n",
    "\n",
    "Quando eu morava nos Estados Unidos, estudando engenharia mecânica, eu tive um curso sobre experiências - como as incertezas das medidas vinda dos aparelhos se apresentavam nos resultados. Não muito importante. Mas no experimento, eu e meu parceiro (vamos chamá-lo de Túlio) deveríamos pesar um [béquer](https://pt.wikipedia.org/wiki/B%C3%A9quer) com um líquido várias vezes (com diferentes volumes) e decidir se esse líquido era de água ou não - através do post, vamos supor sim.\n",
    "\n",
    "Eu sabia que independentemente do que fosse, a gente deveria ver uma linha de pontos, já que todos líquidos têm uma densidade constante, e a peso total é proporcional ao volume $peso_{total} = densidade \\cdot volume + peso_{béquer}$. Mas para a minha surpresa não foi bem isso que observamos.\n",
    "\n",
    "<!-- <div style=\"text-align:center\"><img src=\"\" /></div> --> - manim: expectativa vs realidade\n",
    "\n",
    "**Porquê?**\n",
    "\n",
    "A balança não é exata, e quando medimos o volume também cometemos erros. Quando levamos tudo me consideração, isso faz diferença dependendo da sensibilidade do nosso experimento. Essas erros aleatórios que variam, normalmente são pequenos e não podemos prever chamamos de [ruído](https://pt.wikipedia.org/wiki/Ru%C3%ADdo). Mas mesmo com esse ruído todo, é possível encontrar os pontos se não tivéssemos ruído nenhum?"
   ]
  },
  {
   "cell_type": "markdown",
   "metadata": {},
   "source": [
    "## O setup\n",
    "\n",
    "Estamos tentando aproximar a peso de um béquer com água, sendo que sabemos a peso do béquer {% fn 2 %}. Ou seja:\n",
    "\n",
    "* $P \\leftarrow$ funcao do peso total do liquido no becker\n",
    "* $\\rho \\leftarrow$ densidade do liquido\n",
    "* $P_{becker} \\leftarrow$ peso do becker\n",
    "\n",
    "$$P(V) = \\rho V + P_{becker}$$\n",
    "\n",
    "> Tip: Fique atento às letras aqui e o que elas significam, porque vamos usá-las ao longo do post\n",
    "\n",
    "Isso é o que queremos aproximar, mas também observamos o ruído. Com o ruído, a equação pode ser escrita assim:\n",
    "\n",
    "* $\\epsilon \\leftarrow$ ruído (um pequeno erro e aleatório)\n",
    "\n",
    "$$P(V) = \\rho V + P_{becker} + \\epsilon$$"
   ]
  },
  {
   "cell_type": "markdown",
   "metadata": {},
   "source": [
    "## Abordagem ingênua\n",
    "\n",
    "Quando olhamos, fica claro que os pontos formam uma nuvem ao redor de uma reta. E também não é muito dificil de traçar uma linha na mão. Linha traçada e problema resolvido.\n",
    "\n",
    "A primeira coisa que eu pensei foi: vou no olho! Quão difícil pode ser?\n",
    "\n",
    "<!-- <div style=\"text-align:center\"><img src=\"\" width=\"30%\"/></div> --> -manim: draw line\n",
    "\n",
    "<div style=\"text-align:center\"><img src=\"https://media.giphy.com/media/3ztiZa4eICWGs/giphy.gif\" width=\"30%\"/></div>\n",
    "\n",
    "Mas era bom demais pra ser verdade - o Túlio resolveu ele traçar uma linha também. Que era muito parecida com a minha, mas ele insistia que a dele era uma aproximação melhor. Como que a gente poderia comparar as linhas? Qual era a melhor? Como eu poderia provar pra ele que a **minha** era melhor?"
   ]
  },
  {
   "cell_type": "markdown",
   "metadata": {},
   "source": [
    "## A função do erro\n",
    "\n",
    "Nós estamos tentando aproximar a linha que melhor representa os pontos, certo? E, pra cada volume que medimos nós temos um peso observado e o peso que a nossa linha (nossa função) estimava. A diferença entre os dois nos da o erro pra esse ponto! Se somarmos todos os pontos, temos um erro da nossa linha! Ou seja, quem tiver a menor soma de erros tem a melhor linha. Visualmente fica:\n",
    "\n",
    "<!-- <div style=\"text-align:center\"><img src=\"\" /></div> --> - manim: erro vertical\n",
    "\n",
    "Mas também temos que tomar cuidado já que temos erros positivos e negativos - se o nosso ponto está acima ou abaixo da linha. Uma maneira fácil de resolver isso é tirar o quadrado desses erros, já que qualquer número (real) ao quadrado vai gerar um outro número positivo. Também sugeri dividirmos pelo número de pontos, pra poder comparar com as aproximações de outros grupos (que coletaram um número diferente de observações).\n",
    "\n",
    "> Note: Nós não precisaríamos dividir pelo número de pontos já para mim e para o Túlio esse número é igual, e estamos vendo quem tem o **menor** erro entre nós.\n",
    "\n",
    "<!-- <div style=\"text-align:center\"><img src=\"\" /></div> --> - manim: mse inteiro\n",
    "\n",
    "Na verdade, não estávamos sendo nem um pouco inovativos. Essa métrica para comparar erros de valores numéricos existe e há bastante tempo. Em estatística, é muito comum ver isso como o [erro quadrático médio](https://pt.wikipedia.org/wiki/Erro_quadr%C3%A1tico_m%C3%A9dio). Esse valor nos dá o quão bom uma função (no nosso caso uma linha) aproxima um grupo de pontos numéricos."
   ]
  },
  {
   "cell_type": "markdown",
   "metadata": {},
   "source": [
    "## Como melhorar o nosso chute?\n",
    "\n",
    "Dúvida resolvida, e os números claramente mostravam que a minha aproximação tinha um erro menor. Mas depois disso, fiquei pensando: \"se nós temos um erro da nossa função, não daria pra encontrar o mínimo dessa função e assim encontrar a menor linha possível?\"\n",
    "\n",
    "Sim. Podemos! Existem um grupo de algorítmos chamados de [algorítmos de otimização](https://pt.wikipedia.org/wiki/Otimiza%C3%A7%C3%A3o), que buscam fazer exatamente isso - encontrar mínimos (ou máximos) de uma função. Um desses algorítmos é o [gradient descent](https://murilo-cunha.github.io/inteligencia-superficial/machine%20learning/algoritmos%20de%20otimiza%C3%A7%C3%A3o/aprendizado%20supervisionado/2020/04/12/grad_desc.html).\n",
    "\n",
    "Vamos ver como é que fica."
   ]
  },
  {
   "cell_type": "markdown",
   "metadata": {},
   "source": [
    "### A nossa linha\n",
    "\n",
    "Antes de falar como fazemos pra melhorar a nossa aproximação, vamos lembrar da definição da nossa linha:\n",
    "\n",
    "* $P \\leftarrow$ função do peso total do líquido no béquer\n",
    "* $\\rho \\leftarrow$ densidade do líquido\n",
    "* $P_{becker} \\leftarrow$ peso do béquer\n",
    "\n",
    "$$P(V) = \\rho V + P_{béquer}$$\n",
    "\n",
    "E, mais formalmente falando, o que eu e o Túlio estávamos procurando são os melhores valores de $\\rho$ e $P_{becker}$, já que são esses valores que definem a reta. E a função do erro então fica:\n",
    "\n",
    "* $E \\leftarrow$ função do erro da nossa linha baseado nas nossas observações\n",
    "* $V_{obs} \\leftarrow$ peso total observado\n",
    "* $P_{obs} \\leftarrow$ peso total observado\n",
    "* $N \\leftarrow$ número de observações\n",
    "\n",
    "\n",
    "$$E(P_{béquer},\\rho) =  \\frac{1}{N}\\sum_{obs=1}^{N}{(P(V_{obs}) - P_{obs})^2}$$\n",
    "\n",
    "Eu sei que é mais intimidador quando colocamos tudo de uma vez em uma equação. Mas lembra que essa equação está descrevendo nada mais é do que discutimos [acima](##A-função-do-erro). Tome seu tempo pra verificar que faz sentido o que está acontecendo aqui - estamos somando os \"erros verticais\" ao quadrado, e dividindo a soma pelo número total de pontos.\n",
    "\n",
    "Agora, como podemos ajustar os valores de $\\rho$ e $P_{becker}$ pra melhorar nossa aproximação?"
   ]
  },
  {
   "cell_type": "markdown",
   "metadata": {},
   "source": [
    "### Aplicando o gradient descent\n",
    "\n",
    "Tudo o que precisamos fazer para aplicar o \"gradient descent\" (descida do gradiente) é definir uma função diferenciável que descreve o **erro** da nossa aproximação.\n",
    "\n",
    "![]({{ site.baseurl }}/assets/manim/videos/grad_desc/480p15/CostSteps.gif \"Passo-a-passo visualizado\")\n",
    "\n",
    "Lembre-se que em gradient descent, nós reduzimos o erro dando um passo na direção oposta do gradiente - ou seja, na direção oposta da derivada em cada dimensão{% fn 1 %}. Como que fica o update de cada parâmetro?\n",
    "\n",
    "Mas antes de mergulharmos nas letrinhas, queria lembrar que essa provavelmente vai ser a parte mais confusa, especialmente se essa é a primeira vez que você está vendo isso. Mas vamos com calma. Vamos definir alguns termos daqui a pouco, mas também vamos explicá-los um por um, e até resolver um exemplo. Até o fim desse post tudo vai ficar mais claro. E fique à vontade para ler, pensar e reler, até que você fique confortável.\n",
    "\n",
    "> Warning: Matemática à frente\n",
    "\n",
    "<!-- <div style=\"text-align:center\"><img src=\"\" /></div> --> - manim: transformacoes da equacao\n",
    "\n",
    "Ou então, um passo a passo mais detalhado (que parece mais complicado do que realmente é):\n",
    "\n",
    "As derivadas parciais da nossa função de erro:\n",
    "\n",
    "> Note: Para calcular as derivadas parciais da nossa função de erro nós devemos usar a [regra da cadeia](https://pt.khanacademy.org/math/ap-calculus-ab/ab-differentiation-2-new/ab-3-1a/a/chain-rule-review).\n",
    "\n",
    "$$\\frac{\\partial E}{\\partial P_{becker}}(P_{becker},\\rho) =  \\frac{2}{N}\\sum_{obs=1}^{N}{((P(V_{obs}) - P_{obs}) \\cdot \\frac{\\partial P}{\\partial P_{becker}}(V_{obs}))}$$\n",
    "\n",
    "$$\\frac{\\partial E}{\\partial \\rho}(P_{becker},\\rho) =  \\frac{2}{N}\\sum_{obs=1}^{N}{((P(V_{obs}) - P_{obs}) \\cdot \\frac{\\partial P}{\\partial \\rho}(V_{obs})})$$\n",
    "\n",
    "As [derivadas parciais](https://pt.khanacademy.org/math/multivariable-calculus/multivariable-derivatives/partial-derivative-and-gradient-articles/a/introduction-to-partial-derivatives) da nossa linha (função que estamos tentando aproximar os pontos):\n",
    "\n",
    "> Note: A derivada parcial $\\frac{\\partial f}{\\partial x}(x,y)$ é coeficiente da linha tangente a $f$ se $y$ fosse um número constante.\n",
    "\n",
    "$$\\frac{\\partial P}{\\partial P_{becker}}(V_{obs}) = 1$$\n",
    "\n",
    "$$\\frac{\\partial P}{\\partial \\rho}(V_{obs}) = V_{obs}$$\n",
    "\n",
    "\n",
    "O passo para cada dimensão:\n",
    "\n",
    "* $\\alpha \\leftarrow$ a taxa de aprendizado\n",
    "\n",
    "$$P_{becker} \\leftarrow P_{becker} - \\alpha \\cdot \\frac{\\partial E}{\\partial P_{becker}}(P_{becker},\\rho)$$\n",
    "\n",
    "$$\\rho \\leftarrow P_{becker} - \\alpha \\cdot \\frac{\\partial E}{\\partial\\rho}(P_{becker},\\rho)$$\n",
    "\n",
    "E colocando tudo junto:\n",
    "\n",
    "$$P_{becker} \\leftarrow P_{becker} - \\alpha \\cdot \\frac{2}{N}\\sum_{obs=1}^{N}{(P(V_{obs}) - P_{obs})} \\cdot 1$$\n",
    "\n",
    "$$\\rho \\leftarrow \\rho - \\alpha \\cdot \\frac{2}{N}\\sum_{obs=1}^{N}{((P(V_{obs}) - P_{obs}) \\cdot V_{obs}})$$\n",
    "\n",
    "E é \"só\" isso!\n",
    "\n",
    "<div style=\"text-align:center\"><img src=\"https://media.giphy.com/media/Ni4cpi0uUkd6U/giphy.gif\" width=\"30%\"/></div>\n",
    "\n",
    "> Tip: Não se sinta intimidado. Lembre-se que a única coisa que estamos fazendo aqui é reduzir o valor de uma função (função do erro). O porquê o algoritmo funciona, ou a intuição por trás do algoritmo não está no escopo desse post. Mas fique à vontade para ler o post sobre [gradient descent](todo_grad) onde mergulhamos mais a fundo.\n",
    "\n",
    "Visualmente, ficaria mais ou menos assim:\n",
    "\n",
    "<!-- <div style=\"text-align:center\"><img src=\"https://media.giphy.com/media/Ni4cpi0uUkd6U/giphy.gif\" width=\"30%\"/></div> --> manim: points, noise, bad line, better line, best line! (with update on number of steps)"
   ]
  },
  {
   "cell_type": "markdown",
   "metadata": {},
   "source": [
    "### Um exemplo\n",
    "\n",
    "Eu sei que é meio confuso, então vamos resolver um exercício simples: vamos tentar aproximar uma linha com três pontos.\n",
    "\n",
    "<div style=\"text-align:center\"><img src=\"https://media.giphy.com/media/HBWbIuHvXI2Eo/giphy.gif\" width=\"30%\"/></div>\n",
    "\n",
    "Nesse exemplo, a linha representaria a **densidade real** da água, enquanto os pontos seriam **experimentos realizados**, mas agora vamos usar os termos $x$ e $y$ para simplificar o problema de um jeito que seria mais fácil de generalizar para outros casos.\n",
    "\n",
    "Vamos fingir que pra linha temos:\n",
    "\n",
    "$$f(x) = y = 2 \\cdot x + 1 $$\n",
    "\n",
    "E para os pontos observados:\n",
    "\n",
    "$$p_1 = (1, 2.5)$$\n",
    "$$p_2 = (2, 5.5)$$\n",
    "$$p_3 = (3, 6.5)$$\n",
    "\n",
    "> Note: estamos procurando a linha que reduz o erro, e essa pode ser (e provavelmente seria) diferente da linha ideal, livre de ruído. Nesse exemplo o nosso erro é de sempre $±0.5$, o que não aconteceria na vida real. Por conta disso, o nosso chute vai se aproximar da linha ideal no nosso exemplo.\n",
    "\n",
    "#### Chute inicial\n",
    "\n",
    "Quando eu estava realizando os experimentos, nós tentamos dar um chute inicial que se aproximasse ao máximo da nossa função de verdade. Na prática não é assim que acontece. Um bom primeiro chute reduz o número de passos que vamos dar. Mas na prática, quando lidamos com problemas mais complexos, não sabemos exatamente o que seria um bom ou mal chute, então escolhemos valores aleatórios para os parâmetros nossa linha ($m$ e $b$) - que também podemos chamar de **pesos** da nossa função."
   ]
  },
  {
   "cell_type": "code",
   "execution_count": 8,
   "metadata": {},
   "outputs": [
    {
     "data": {
      "text/html": [
       "\n",
       "<div id=\"altair-viz-115b17d830b54fdcab210ae4acafd4e6\"></div>\n",
       "<script type=\"text/javascript\">\n",
       "  (function(spec, embedOpt){\n",
       "    let outputDiv = document.currentScript.previousElementSibling;\n",
       "    if (outputDiv.id !== \"altair-viz-115b17d830b54fdcab210ae4acafd4e6\") {\n",
       "      outputDiv = document.getElementById(\"altair-viz-115b17d830b54fdcab210ae4acafd4e6\");\n",
       "    }\n",
       "    const paths = {\n",
       "      \"vega\": \"https://cdn.jsdelivr.net/npm//vega@5?noext\",\n",
       "      \"vega-lib\": \"https://cdn.jsdelivr.net/npm//vega-lib?noext\",\n",
       "      \"vega-lite\": \"https://cdn.jsdelivr.net/npm//vega-lite@4.8.1?noext\",\n",
       "      \"vega-embed\": \"https://cdn.jsdelivr.net/npm//vega-embed@6?noext\",\n",
       "    };\n",
       "\n",
       "    function loadScript(lib) {\n",
       "      return new Promise(function(resolve, reject) {\n",
       "        var s = document.createElement('script');\n",
       "        s.src = paths[lib];\n",
       "        s.async = true;\n",
       "        s.onload = () => resolve(paths[lib]);\n",
       "        s.onerror = () => reject(`Error loading script: ${paths[lib]}`);\n",
       "        document.getElementsByTagName(\"head\")[0].appendChild(s);\n",
       "      });\n",
       "    }\n",
       "\n",
       "    function showError(err) {\n",
       "      outputDiv.innerHTML = `<div class=\"error\" style=\"color:red;\">${err}</div>`;\n",
       "      throw err;\n",
       "    }\n",
       "\n",
       "    function displayChart(vegaEmbed) {\n",
       "      vegaEmbed(outputDiv, spec, embedOpt)\n",
       "        .catch(err => showError(`Javascript Error: ${err.message}<br>This usually means there's a typo in your chart specification. See the javascript console for the full traceback.`));\n",
       "    }\n",
       "\n",
       "    if(typeof define === \"function\" && define.amd) {\n",
       "      requirejs.config({paths});\n",
       "      require([\"vega-embed\"], displayChart, err => showError(`Error loading script: ${err.message}`));\n",
       "    } else if (typeof vegaEmbed === \"function\") {\n",
       "      displayChart(vegaEmbed);\n",
       "    } else {\n",
       "      loadScript(\"vega\")\n",
       "        .then(() => loadScript(\"vega-lite\"))\n",
       "        .then(() => loadScript(\"vega-embed\"))\n",
       "        .catch(showError)\n",
       "        .then(() => displayChart(vegaEmbed));\n",
       "    }\n",
       "  })({\"config\": {\"view\": {\"continuousWidth\": 400, \"continuousHeight\": 300}}, \"layer\": [{\"data\": {\"name\": \"data-cb1f7f678e23d76b1eada68351d5e297\"}, \"mark\": \"line\", \"encoding\": {\"color\": {\"type\": \"nominal\", \"field\": \"Linha\", \"scale\": {\"domain\": [\"Ideal\", \"Chute\"], \"range\": [\"orange\", \"blue\"]}}, \"x\": {\"type\": \"quantitative\", \"field\": \"X\"}, \"y\": {\"type\": \"quantitative\", \"field\": \"Y\"}}, \"selection\": {\"selector002\": {\"type\": \"interval\", \"bind\": \"scales\", \"encodings\": [\"x\", \"y\"]}}}, {\"data\": {\"name\": \"data-cab9d0b449025f61cbd552ef89ee2f34\"}, \"mark\": {\"type\": \"rule\", \"color\": \"red\"}, \"encoding\": {\"x\": {\"type\": \"quantitative\", \"field\": \"X\"}, \"y\": {\"type\": \"quantitative\", \"field\": \"Chute\"}, \"y2\": {\"field\": \"Observado\"}}}, {\"data\": {\"name\": \"data-cab9d0b449025f61cbd552ef89ee2f34\"}, \"mark\": {\"type\": \"circle\", \"color\": \"orange\", \"opacity\": 1, \"size\": 40}, \"encoding\": {\"x\": {\"type\": \"quantitative\", \"field\": \"X\"}, \"y\": {\"type\": \"quantitative\", \"field\": \"Observado\"}}}, {\"data\": {\"name\": \"data-cab9d0b449025f61cbd552ef89ee2f34\"}, \"mark\": {\"type\": \"circle\", \"color\": \"blue\", \"opacity\": 1, \"size\": 40}, \"encoding\": {\"x\": {\"type\": \"quantitative\", \"field\": \"X\"}, \"y\": {\"type\": \"quantitative\", \"field\": \"Chute\"}}}], \"title\": \"Observa\\u00e7\\u00f5es\", \"$schema\": \"https://vega.github.io/schema/vega-lite/v4.8.1.json\", \"datasets\": {\"data-cb1f7f678e23d76b1eada68351d5e297\": [{\"Y\": 3, \"X\": 1, \"Linha\": \"Ideal\"}, {\"Y\": 5, \"X\": 2, \"Linha\": \"Ideal\"}, {\"Y\": 7, \"X\": 3, \"Linha\": \"Ideal\"}, {\"Y\": 1, \"X\": 1, \"Linha\": \"Chute\"}, {\"Y\": 0, \"X\": 2, \"Linha\": \"Chute\"}, {\"Y\": -1, \"X\": 3, \"Linha\": \"Chute\"}], \"data-cab9d0b449025f61cbd552ef89ee2f34\": [{\"X\": 1, \"Observado\": 2.5, \"Chute\": 1}, {\"X\": 2, \"Observado\": 5.5, \"Chute\": 0}, {\"X\": 3, \"Observado\": 6.5, \"Chute\": -1}]}}, {\"mode\": \"vega-lite\"});\n",
       "</script>"
      ],
      "text/plain": [
       "alt.LayerChart(...)"
      ]
     },
     "execution_count": 8,
     "metadata": {},
     "output_type": "execute_result"
    }
   ],
   "source": [
    "#hide_input\n",
    "from typing import List\n",
    "import numpy as np\n",
    "import pandas as pd\n",
    "import altair as alt\n",
    "\n",
    "def y_linha(x_list: List[float], m: float, b: float) -> List:\n",
    "    \"\"\"Retorna os valores de y dado x seguindo comportamento linear.\"\"\"\n",
    "    return [m*x+b for x in x_list]\n",
    "\n",
    "# lists\n",
    "m_chute = -1\n",
    "b_chute = 2\n",
    "x = [1, 2, 3]\n",
    "\n",
    "y_ideal = [3, 5, 7]\n",
    "y_obs = [2.5, 5.5, 6.5]\n",
    "y_chute = y_linha(x, m_chute, b_chute)\n",
    "\n",
    "# dataframes\n",
    "df_linhas = pd.DataFrame({\n",
    "    'Y': y_ideal + y_chute,\n",
    "    'X': x + x,\n",
    "    'Linha': ['Ideal']*3 + ['Chute']*3\n",
    "})\n",
    "\n",
    "df_pontos = pd.DataFrame({\n",
    "    'X': x,\n",
    "    'Observado': y_obs,\n",
    "    'Chute': y_chute\n",
    "})\n",
    "\n",
    "# plots\n",
    "plt_linhas = alt.Chart(df_linhas).encode(\n",
    "    x='X',\n",
    "    y='Y',\n",
    "    color=alt.Color('Linha', scale=alt.Scale(domain=['Ideal', 'Chute'], range=['orange', 'blue']))\n",
    ")\n",
    "\n",
    "plt_pontos = alt.Chart(df_pontos).encode(\n",
    "    x='X',\n",
    "    y='Y',\n",
    ")\n",
    "\n",
    "plt_diff = alt.Chart(df_pontos).encode(\n",
    "    alt.X('X:Q'),\n",
    "    alt.Y('Chute:Q'),\n",
    "    alt.Y2('Ideal:Q')\n",
    ")\n",
    "\n",
    "\n",
    "alt.layer(\n",
    "    plt_linhas.mark_line(),\n",
    "    plt_diff.mark_rule(color='red').encode(alt.X('X'), alt.Y('Chute'), alt.Y2('Observado')),\n",
    "    plt_pontos.mark_circle(color='orange', opacity=1, size=40).encode(x='X', y='Observado'),\n",
    "    plt_pontos.mark_circle(color='blue', opacity=1, size=40).encode(x='X', y='Chute'),\n",
    ").properties(title='Observações').interactive()"
   ]
  },
  {
   "cell_type": "code",
   "execution_count": 9,
   "metadata": {},
   "outputs": [
    {
     "name": "stdout",
     "output_type": "stream",
     "text": [
      "O erro foi de 29.583 para 1.159! 👏 \n",
      "\n",
      "m := 1.3333333333333335\n",
      "b := 2.966666666666667\n",
      "MSE = 1.1585185185185194\n"
     ]
    }
   ],
   "source": [
    "#hide\n",
    "import numpy as np\n",
    "\n",
    "\n",
    "def mse(y_pred: np.array, y_true: np.array) -> float:\n",
    "    \"\"\"Calcule o erro quadrado médio entre dois vetores.\"\"\"\n",
    "    return (np.square(y_pred - y_true)).mean()\n",
    "\n",
    "def _delta(var: float, y_pred: np.array, y_true: np.array, x_obs: np.array, is_b: bool, alpha: float):\n",
    "    \"\"\"Calcule a diferença dos pesos. Ou seja, retorne a derivada do erro quadrático médio multiplicado pela gradiente.\n",
    "    :param var: valor da variável que estamos querendo fazer o update (valor de m ou b)\n",
    "    :param y_pred: numpy array dos valores previstos, do nosso chute\n",
    "    :param y_true: numpy array dos pontos de y encontrados no experimento\n",
    "    :param is_b: valor booleana que indica se estamos fazendo o update de b ou não\n",
    "    :param alpha: a taxa de aprendizado\n",
    "    :param n: número de pontos/experimentos realizados\"\"\"\n",
    "    \n",
    "    def _media(y_pred: np.array, y_true: np.array, x: np.array, is_b: bool):\n",
    "        \"\"\"Calcule o valor da soma que é parte da derivada.\"\"\"\n",
    "        if is_b:\n",
    "            factor = 1\n",
    "        else:\n",
    "            factor = x\n",
    "        \n",
    "        return ((y_pred - y_true) * factor).mean()\n",
    "    \n",
    "    assert y_pred.shape == y_true.shape, \"Número de previsões e observados diferentes.\"\n",
    "    assert y_pred.ndim == y_true.ndim == 1, \"Y devem ser vetores.\"\n",
    "    \n",
    "    media = _media(y_pred, y_true, x_obs, is_b)\n",
    "    \n",
    "    return alpha * 2 * media\n",
    "\n",
    "# converta as listas para um numpy arrays\n",
    "x = np.array(x)\n",
    "y_obs = np.array(y_obs)\n",
    "y_chute = np.array(y_chute)\n",
    "\n",
    "mse_antes = mse(y_obs, y_chute)\n",
    "\n",
    "m_update = m_chute - _delta(m_chute, y_chute, y_obs, x, False, 0.1)\n",
    "b_update = b_chute - _delta(b_chute, y_chute, y_obs, x, True, 0.1)\n",
    "\n",
    "y_update = y_linha(x, m_update, b_update)\n",
    "\n",
    "mse_depois = mse(y_obs, y_update)\n",
    "\n",
    "if mse_depois >= mse_antes:\n",
    "    \"\"\"Verifique que o erro quadrático médio está diminuindo.\"\"\"\n",
    "    raise ValueError('Os valores não estão melhorando 😞 ...')\n",
    "else:\n",
    "    print(f\"O erro foi de {mse_antes:.3f} para {mse_depois:.3f}! 👏 \\n\")\n",
    "\n",
    "print(f\"m := {m_update}\")\n",
    "print(f\"b := {b_update}\")\n",
    "print(f\"MSE = {mse_depois}\")"
   ]
  },
  {
   "cell_type": "markdown",
   "metadata": {},
   "source": [
    "Ou seja, o para o nosso chute inicial, escolhemos:\n",
    "\n",
    "* $m = -1$\n",
    "* $b = 2$\n",
    "\n",
    "$\\therefore f(x) = y = -1 \\cdot x + 2$\n",
    "\n",
    "As linhas vermelhas mostram o erro, e a gente consegue conferir que o erro quadratico médio é:\n",
    "\n",
    "$$E(m,b) =  \\frac{1}{N}\\sum_{obs=1}^{N}{(f(x_{obs}) - y_{obs})^2}$$\n",
    "$$\\therefore E(2,1) =  \\frac{1}{3}\\sum_{obs=1}^{N}{((-1 \\cdot x_{obs} + 2) - y_{obs})^2}$$\n",
    "$$\\therefore E(2,1) =  \\frac{1}{3}((-1 \\cdot 1 + 2) - 2.5)^2 + ((-1 \\cdot 2 + 2) - 3.5)^2 + ((-1 \\cdot 3 + 2) - 6.5)^2)$$\n",
    "$$\\therefore E(2,1) =  29.58$$\n",
    "\n",
    "Uma maneira de intrepertar esse erro é a diferença média ao quadrado. Poderíamos tirar a raiz quadrada do erro para termos um valor mais interpretável, mas como você vai ver daqui a pouco, vamos tirar a derivada desse valor. Raízes complicam esse processo. Além do mais, independentemente ser ao quadrado ou não, estamos procurando o mínimo desse erro.\n",
    "\n",
    "#### Melhorando o chute\n",
    "\n",
    "Lembrando que os nossos são atualizados de acordo com o que discutimos acima:\n",
    "\n",
    "$$m \\leftarrow m - \\alpha \\cdot \\frac{2}{N}\\sum_{obs=1}^{N}{(f(x_{obs}) - y_{obs})} \\cdot x_{obs}$$\n",
    "\n",
    "$$b \\leftarrow b - \\alpha \\cdot \\frac{2}{N}\\sum_{obs=1}^{N}{(f(x_{obs}) - y_{obs})} \\cdot 1$$\n",
    "\n",
    "Vamos escolher nossa taxa de aprendizado arbitrariamente ($\\alpha = 0.1$). Então os nossos novos pesos ficam:\n",
    "\n",
    "$$m \\leftarrow -1 - 0.1 \\cdot \\frac{2}{3}((-1 \\cdot 1 + 2) - 2.5) + ((-1 \\cdot 2 + 2) - 3.5) + ((-1 \\cdot 3 + 2) - 6.5)) \\cdot -1$$\n",
    "\n",
    "$$b \\leftarrow 2 - 0.1 \\cdot \\frac{2}{3}((-1 \\cdot 1 + 2) - 2.5) + ((-1 \\cdot 2 + 2) - 3.5) + ((-1 \\cdot 3 + 2) - 6.5)) \\cdot 1$$\n",
    "\n",
    "$$\\therefore$$\n",
    "\n",
    "$$m \\leftarrow 1.33$$\n",
    "\n",
    "$$b \\leftarrow 2.97$$\n",
    "\n",
    "<!--  gif--> -- manim\n",
    "\n",
    "E com esses novos valores de $m$ e $b$ o nosso erro vai de **29.58** para **1.16** (fique à vontade pra verificar)!\n",
    "\n",
    "<div style=\"text-align:center\"><img src=\"https://media.giphy.com/media/lMVNl6XxTvXgs/giphy.gif\" width=\"30%\"/></div>"
   ]
  },
  {
   "cell_type": "code",
   "execution_count": 10,
   "metadata": {},
   "outputs": [
    {
     "data": {
      "text/html": [
       "\n",
       "<div id=\"altair-viz-fac0b695689f443e84ed1bbeba9c012f\"></div>\n",
       "<script type=\"text/javascript\">\n",
       "  (function(spec, embedOpt){\n",
       "    let outputDiv = document.currentScript.previousElementSibling;\n",
       "    if (outputDiv.id !== \"altair-viz-fac0b695689f443e84ed1bbeba9c012f\") {\n",
       "      outputDiv = document.getElementById(\"altair-viz-fac0b695689f443e84ed1bbeba9c012f\");\n",
       "    }\n",
       "    const paths = {\n",
       "      \"vega\": \"https://cdn.jsdelivr.net/npm//vega@5?noext\",\n",
       "      \"vega-lib\": \"https://cdn.jsdelivr.net/npm//vega-lib?noext\",\n",
       "      \"vega-lite\": \"https://cdn.jsdelivr.net/npm//vega-lite@4.8.1?noext\",\n",
       "      \"vega-embed\": \"https://cdn.jsdelivr.net/npm//vega-embed@6?noext\",\n",
       "    };\n",
       "\n",
       "    function loadScript(lib) {\n",
       "      return new Promise(function(resolve, reject) {\n",
       "        var s = document.createElement('script');\n",
       "        s.src = paths[lib];\n",
       "        s.async = true;\n",
       "        s.onload = () => resolve(paths[lib]);\n",
       "        s.onerror = () => reject(`Error loading script: ${paths[lib]}`);\n",
       "        document.getElementsByTagName(\"head\")[0].appendChild(s);\n",
       "      });\n",
       "    }\n",
       "\n",
       "    function showError(err) {\n",
       "      outputDiv.innerHTML = `<div class=\"error\" style=\"color:red;\">${err}</div>`;\n",
       "      throw err;\n",
       "    }\n",
       "\n",
       "    function displayChart(vegaEmbed) {\n",
       "      vegaEmbed(outputDiv, spec, embedOpt)\n",
       "        .catch(err => showError(`Javascript Error: ${err.message}<br>This usually means there's a typo in your chart specification. See the javascript console for the full traceback.`));\n",
       "    }\n",
       "\n",
       "    if(typeof define === \"function\" && define.amd) {\n",
       "      requirejs.config({paths});\n",
       "      require([\"vega-embed\"], displayChart, err => showError(`Error loading script: ${err.message}`));\n",
       "    } else if (typeof vegaEmbed === \"function\") {\n",
       "      displayChart(vegaEmbed);\n",
       "    } else {\n",
       "      loadScript(\"vega\")\n",
       "        .then(() => loadScript(\"vega-lite\"))\n",
       "        .then(() => loadScript(\"vega-embed\"))\n",
       "        .catch(showError)\n",
       "        .then(() => displayChart(vegaEmbed));\n",
       "    }\n",
       "  })({\"config\": {\"view\": {\"continuousWidth\": 400, \"continuousHeight\": 300}}, \"layer\": [{\"data\": {\"name\": \"data-3b8a00a60b3dcaf633a86e948254f817\"}, \"mark\": \"line\", \"encoding\": {\"color\": {\"type\": \"nominal\", \"field\": \"Linha\", \"scale\": {\"domain\": [\"Ideal\", \"Update\", \"Inicial\"], \"range\": [\"orange\", \"blue\", \"red\"]}}, \"x\": {\"type\": \"quantitative\", \"field\": \"X\"}, \"y\": {\"type\": \"quantitative\", \"field\": \"Y\"}}, \"selection\": {\"selector003\": {\"type\": \"interval\", \"bind\": \"scales\", \"encodings\": [\"x\", \"y\"]}}}, {\"data\": {\"name\": \"data-5ba691d47a02c6fa322a10c75f4319f9\"}, \"mark\": {\"type\": \"rule\", \"color\": \"red\"}, \"encoding\": {\"x\": {\"type\": \"quantitative\", \"field\": \"X\"}, \"y\": {\"type\": \"quantitative\", \"field\": \"Update\"}, \"y2\": {\"field\": \"Observado\"}}}, {\"data\": {\"name\": \"data-5ba691d47a02c6fa322a10c75f4319f9\"}, \"mark\": {\"type\": \"circle\", \"color\": \"orange\", \"opacity\": 1, \"size\": 40}, \"encoding\": {\"x\": {\"type\": \"quantitative\", \"field\": \"X\"}, \"y\": {\"type\": \"quantitative\", \"field\": \"Observado\"}}}, {\"data\": {\"name\": \"data-5ba691d47a02c6fa322a10c75f4319f9\"}, \"mark\": {\"type\": \"circle\", \"color\": \"blue\", \"opacity\": 1, \"size\": 40}, \"encoding\": {\"x\": {\"type\": \"quantitative\", \"field\": \"X\"}, \"y\": {\"type\": \"quantitative\", \"field\": \"Update\"}}}], \"title\": \"Observa\\u00e7\\u00f5es\", \"$schema\": \"https://vega.github.io/schema/vega-lite/v4.8.1.json\", \"datasets\": {\"data-3b8a00a60b3dcaf633a86e948254f817\": [{\"Y\": 3.0, \"X\": 1, \"Linha\": \"Ideal\"}, {\"Y\": 5.0, \"X\": 2, \"Linha\": \"Ideal\"}, {\"Y\": 7.0, \"X\": 3, \"Linha\": \"Ideal\"}, {\"Y\": 4.300000000000001, \"X\": 1, \"Linha\": \"Update\"}, {\"Y\": 5.633333333333334, \"X\": 2, \"Linha\": \"Update\"}, {\"Y\": 6.966666666666667, \"X\": 3, \"Linha\": \"Update\"}, {\"Y\": 1.0, \"X\": 1, \"Linha\": \"Inicial\"}, {\"Y\": 0.0, \"X\": 2, \"Linha\": \"Inicial\"}, {\"Y\": -1.0, \"X\": 3, \"Linha\": \"Inicial\"}], \"data-5ba691d47a02c6fa322a10c75f4319f9\": [{\"X\": 1, \"Observado\": 2.5, \"Update\": 4.300000000000001}, {\"X\": 2, \"Observado\": 5.5, \"Update\": 5.633333333333334}, {\"X\": 3, \"Observado\": 6.5, \"Update\": 6.966666666666667}]}}, {\"mode\": \"vega-lite\"});\n",
       "</script>"
      ],
      "text/plain": [
       "alt.LayerChart(...)"
      ]
     },
     "execution_count": 10,
     "metadata": {},
     "output_type": "execute_result"
    }
   ],
   "source": [
    "#hide_input\n",
    "from typing import List\n",
    "import numpy as np\n",
    "import pandas as pd\n",
    "import altair as alt\n",
    "\n",
    "# converta os numpy arrays de volta para listas (por conveniencia)\n",
    "y_chute = y_chute.tolist()\n",
    "x = x.tolist()\n",
    "\n",
    "# dataframes\n",
    "df_linhas = pd.DataFrame({\n",
    "    'Y': y_ideal + y_update + y_chute,\n",
    "    'X': x + x + x,\n",
    "    'Linha': ['Ideal']*3 + ['Update']*3 + ['Inicial']*3\n",
    "})\n",
    "\n",
    "df_pontos = pd.DataFrame({\n",
    "    'X': x,\n",
    "    'Observado': y_obs,\n",
    "    'Update': y_update\n",
    "})\n",
    "\n",
    "# plots\n",
    "plt_linhas = alt.Chart(df_linhas).encode(\n",
    "    x='X',\n",
    "    y='Y',\n",
    "    color=alt.Color('Linha', scale=alt.Scale(domain=['Ideal', 'Update', 'Inicial'], range=['orange', 'blue', 'red']))\n",
    ")\n",
    "\n",
    "plt_pontos = alt.Chart(df_pontos).encode(\n",
    "    x='X',\n",
    "    y='Y',\n",
    ")\n",
    "\n",
    "plt_diff = alt.Chart(df_pontos).encode(\n",
    "    alt.X('X:Q'),\n",
    "    alt.Y('Update:Q'),\n",
    "    alt.Y2('Ideal:Q')\n",
    ")\n",
    "\n",
    "\n",
    "alt.layer(\n",
    "    plt_linhas.mark_line(),\n",
    "    plt_diff.mark_rule(color='red').encode(alt.X('X'), alt.Y('Update'), alt.Y2('Observado')),\n",
    "    plt_pontos.mark_circle(color='orange', opacity=1, size=40).encode(x='X', y='Observado'),\n",
    "    plt_pontos.mark_circle(color='blue', opacity=1, size=40).encode(x='X', y='Update'),\n",
    ").properties(title='Observações').interactive()"
   ]
  },
  {
   "cell_type": "markdown",
   "metadata": {},
   "source": [
    "E o resto é só repetindo o mesmo processo! O próximo passo eu deixo para você resolver. Como ficaria os novos pesos $m$ e $b$? Qual seria o erro quadrático médio?"
   ]
  },
  {
   "cell_type": "code",
   "execution_count": 203,
   "metadata": {},
   "outputs": [
    {
     "name": "stdout",
     "output_type": "stream",
     "text": [
      "O erro foi de 0.222 para 0.222! 👏 \n",
      "\n",
      "m := 1.9918348303106774\n",
      "b := 0.8518946832576453\n"
     ]
    }
   ],
   "source": [
    "#hide_input\n",
    "# obs - quando estamos treinando um modelo de regressão linear, estamos executamos o código abaixo várias vezes!\n",
    "# A redução do erro em com as iterações é o que chamamos de \"aprender\"\n",
    "\n",
    "# converta as listas para um numpy arrays\n",
    "x = np.array(x)\n",
    "y_obs = np.array(y_obs)\n",
    "y_update = np.array(y_update)\n",
    "\n",
    "mse_antes = mse(y_obs, y_update)\n",
    "\n",
    "mse_init = mse(y_obs, y_chute)\n",
    "m_update = m_update - _delta(m_update, y_update, y_obs, x, False, 0.1)\n",
    "b_update = b_update - _delta(b_update, y_update, y_obs, x, True, 0.1)\n",
    "\n",
    "y_update = y_linha(x, m_update, b_update)\n",
    "\n",
    "mse_depois = mse(y_obs, y_update)\n",
    "\n",
    "if mse_depois >= mse_antes:\n",
    "    \"\"\"Verifique que o erro quadrático médio está diminuindo.\"\"\"\n",
    "    raise ValueError('Os valores não estão melhorando 😞 ...')\n",
    "else:\n",
    "    print(f\"O erro foi de {mse_antes:.3f} para {mse_depois:.3f}! 👏 \\n\")\n",
    "\n",
    "print(f\"m := {m_update}\")\n",
    "print(f\"b := {b_update}\")"
   ]
  },
  {
   "cell_type": "markdown",
   "metadata": {},
   "source": [
    "#### Vetorizando tudo\n",
    "\n",
    "Agora, nós poderíamos colocar tudo em vetores. Se a gente fizer tudo certo, os resultados não mudariam. Mas antes de fazer isso, porque vetorizar tudo? Com certeza é mais trabalhoso reescrever tudo em `Numpy` e repensar em como reescrever suas funções. Vale a pena esse esforço? Além do mais, para multiplicar dois vetores nós ainda temos que computar o mesmo número de operações matemáticas certo?\n",
    "\n",
    "Sim, isso é verdade. Mas ainda assim, vale (e muito) o esforço.\n",
    "* `Numpy` arrays são mais eficientes que listas em `Python`. Muitas das operações são implementadas em [C/C++/Cython](https://en.wikipedia.org/wiki/NumPy#The_ndarray_data_structure), o que aumenta a velocidade de execução, além de usar [ponteiros](https://pt.wikipedia.org/wiki/Ponteiro_(programa%C3%A7%C3%A3o)), etc.\n",
    "* Além disso, uma multiplicação de matrizes, por exemplo, engloba várias operações matemáticas (adição/subtração dos elementos da matriz). Passando várias instruções de uma vez só possibilita o computador de paralelizar as operações ([SIMD](https://pt.wikipedia.org/wiki/SIMD)). Se eu e o Túlio tivéssemos de fazer uma multiplicação de matriz na mão, eu poderia pegar a primeira metade, e ele a segunda. Desse jeito, a gente calcularia na metade do tempo.\n",
    "\n",
    "Espero que tenha te convencido. Em Machine Learning, essas operações se repetem tantas vezes que acabam fazendo muita diferença. Colocando tudo em vetores, o nosso exemplo fica assim:\n",
    "\n",
    "$$\\vec{x^{(obs)}} = \\begin{bmatrix} 1 \\\\ 2  \\\\ 3 \\end{bmatrix}$$\n",
    "\n",
    "$$\\vec{y} = b + m \\cdot \\begin{bmatrix} 1 \\\\ 2  \\\\ 3 \\end{bmatrix} \\rightarrow \\vec{y} = \\begin{bmatrix} 1 & 1 \\\\ 1 & 2 \\\\ 1 & 3 \\end{bmatrix} \\begin{bmatrix} b \\\\ m \\end{bmatrix}$$\n",
    "\n",
    "Ou seja, vamos adicionar uma coluna com $1s$ no nosso vetor $x$ para simplificar as coisas. Vamos também chamar $b$ de $w_0$ e $m$ de $w_1$ (se tivéssemos várias variáveis, o peso $w_n$ multiplicaria a variável $n$). Assim nós também temos os vetor de pesos $\\vec{w}$. Da mesma maneira, todas as nossas observações vão ser contidas em um vetor.\n",
    "\n",
    "> info: Como estamos falando de vetores, eu troquei a notação de $y_{obs}$ para $y^{(obs)}$ e $x_{obs}$ para $x^{(obs)}$ para podermos usar o subscrito $\\vec{v}_{i,j}$ para falarmos do vetor $\\vec{v}$ na linha $i$ e coluna $j$. Falando de vetores, os índices das linhas e colunas aqui também vão de $0$ a $N-1$, onde $N$ são o número total de linhas ou colunas. Não é pra complicar, mas em [muitas das linguagens de programação eles denotam as matrizes assim (ao contrário da notação matemática comum)](https://en.wikipedia.org/wiki/Zero-based_numbering) - incluindo `python`.\n",
    "\n",
    "$$\\vec{x^{(obs)}} = \\begin{bmatrix} 1 & 1 \\\\ 1 & 2 \\\\ 1 & 3 \\end{bmatrix}$$\n",
    "\n",
    "$$\\vec{w} =  \\begin{bmatrix} w_0 \\\\ w_1 \\end{bmatrix}$$\n",
    "\n",
    "$$\\vec{y^{(obs)}} = \\begin{bmatrix} 2.5 \\\\ 5.5 \\\\ 6.5 \\end{bmatrix}$$\n",
    "\n",
    "$$\\therefore \\vec{y} = f(\\vec{x}) = \\vec{x} \\cdot \\vec{w}$$\n",
    "\n",
    "$$w_0 \\leftarrow w_0 - \\alpha \\cdot \\frac{2}{N-1}\\sum_{j=0}^{N}{(\\vec{x} \\cdot \\vec{w} - \\vec{y^{(obs)}})} \\cdot \\vec{x^{(obs)}}_{0,j}$$\n",
    "\n",
    "$$w_1 \\leftarrow w_1 - \\alpha \\cdot \\frac{2}{N-1}\\sum_{j=0}^{N}{(\\vec{x} \\cdot \\vec{w} - \\vec{y^{(obs)}})} \\cdot \\vec{x^{(obs)}}_{1,j}$$\n",
    "\n",
    "E colocando todos os updates em uma equação só:\n",
    "\n",
    "$$\\therefore \\vec{w} \\leftarrow \\vec{w} - \\alpha \\cdot \\frac{2}{N-1}\\sum_{j=0}^{N}{(\\vec{x} \\cdot \\vec{w} - \\vec{y^{(obs)}})} \\cdot \\vec{x^{(obs)}}_{1,j}$$\n",
    "\n",
    "> warning: Se você pesquisar, talvez você ache a última em formas ligeiramente diferentes. Quando isso acontecer, de uma olhada também nas definições dos vetores. É muito possível também que diferentes pessoas definam esses vetores de maneiras diferentes.\n",
    "\n",
    "Eu sei que é bastante pra absorver e bastante letrinha. Para. Vai tomar um café. Pensa. Veja se faz sentido.\n",
    "\n",
    "<div style=\"text-align:center\"><img src=\"https://media.giphy.com/media/lELRD773cY7Sg/giphy.gif\" width=\"30%\"/></div>"
   ]
  },
  {
   "cell_type": "code",
   "execution_count": null,
   "metadata": {},
   "outputs": [],
   "source": [
    "# Bota tudo em um vetor e mostra as equacoes de novo\n",
    "# porque vetor?"
   ]
  },
  {
   "cell_type": "code",
   "execution_count": null,
   "metadata": {},
   "outputs": [],
   "source": [
    "# a gente precisa usar mse?"
   ]
  },
  {
   "cell_type": "code",
   "execution_count": null,
   "metadata": {},
   "outputs": [],
   "source": [
    "# nomenclatura - least squares regression, best fit curve, mse, etc.\n",
    "# outros topicos - estatistico (uma linha so); 2+ dimensoes?; polinomial?; overfit/underfit e regularization"
   ]
  },
  {
   "cell_type": "code",
   "execution_count": null,
   "metadata": {},
   "outputs": [],
   "source": []
  },
  {
   "cell_type": "code",
   "execution_count": null,
   "metadata": {},
   "outputs": [],
   "source": []
  },
  {
   "cell_type": "markdown",
   "metadata": {},
   "source": [
    "put a `#collapse-show` flag at the top of any cell if you want to **show** that cell by default, but give the reader the option to hide it:"
   ]
  },
  {
   "cell_type": "code",
   "execution_count": 4,
   "metadata": {},
   "outputs": [],
   "source": [
    "#collapse-show\n",
    "cars = 'https://vega.github.io/vega-datasets/data/cars.json'\n",
    "movies = 'https://vega.github.io/vega-datasets/data/movies.json'\n",
    "sp500 = 'https://vega.github.io/vega-datasets/data/sp500.csv'\n",
    "stocks = 'https://vega.github.io/vega-datasets/data/stocks.csv'\n",
    "flights = 'https://vega.github.io/vega-datasets/data/flights-5k.json'"
   ]
  },
  {
   "cell_type": "markdown",
   "metadata": {},
   "source": [
    "## Interactive Charts With Altair\n",
    "\n",
    "Charts made with Altair remain interactive.  Example charts taken from [this repo](https://github.com/uwdata/visualization-curriculum), specifically [this notebook](https://github.com/uwdata/visualization-curriculum/blob/master/altair_interaction.ipynb)."
   ]
  },
  {
   "cell_type": "code",
   "execution_count": 38,
   "metadata": {},
   "outputs": [
    {
     "ename": "NameError",
     "evalue": "name 'movies' is not defined",
     "output_type": "error",
     "traceback": [
      "\u001b[0;31m---------------------------------------------------------------------------\u001b[0m",
      "\u001b[0;31mNameError\u001b[0m                                 Traceback (most recent call last)",
      "\u001b[0;32m<ipython-input-38-cfd26eb4b206>\u001b[0m in \u001b[0;36m<module>\u001b[0;34m\u001b[0m\n\u001b[1;32m      1\u001b[0m \u001b[0;31m# hide\u001b[0m\u001b[0;34m\u001b[0m\u001b[0;34m\u001b[0m\u001b[0;34m\u001b[0m\u001b[0m\n\u001b[0;32m----> 2\u001b[0;31m \u001b[0mdf\u001b[0m \u001b[0;34m=\u001b[0m \u001b[0mpd\u001b[0m\u001b[0;34m.\u001b[0m\u001b[0mread_json\u001b[0m\u001b[0;34m(\u001b[0m\u001b[0mmovies\u001b[0m\u001b[0;34m)\u001b[0m \u001b[0;31m# load movies data\u001b[0m\u001b[0;34m\u001b[0m\u001b[0;34m\u001b[0m\u001b[0m\n\u001b[0m\u001b[1;32m      3\u001b[0m \u001b[0mgenres\u001b[0m \u001b[0;34m=\u001b[0m \u001b[0mdf\u001b[0m\u001b[0;34m[\u001b[0m\u001b[0;34m'Major_Genre'\u001b[0m\u001b[0;34m]\u001b[0m\u001b[0;34m.\u001b[0m\u001b[0munique\u001b[0m\u001b[0;34m(\u001b[0m\u001b[0;34m)\u001b[0m \u001b[0;31m# get unique field values\u001b[0m\u001b[0;34m\u001b[0m\u001b[0;34m\u001b[0m\u001b[0m\n\u001b[1;32m      4\u001b[0m \u001b[0mgenres\u001b[0m \u001b[0;34m=\u001b[0m \u001b[0mlist\u001b[0m\u001b[0;34m(\u001b[0m\u001b[0mfilter\u001b[0m\u001b[0;34m(\u001b[0m\u001b[0;32mlambda\u001b[0m \u001b[0md\u001b[0m\u001b[0;34m:\u001b[0m \u001b[0md\u001b[0m \u001b[0;32mis\u001b[0m \u001b[0;32mnot\u001b[0m \u001b[0;32mNone\u001b[0m\u001b[0;34m,\u001b[0m \u001b[0mgenres\u001b[0m\u001b[0;34m)\u001b[0m\u001b[0;34m)\u001b[0m \u001b[0;31m# filter out None values\u001b[0m\u001b[0;34m\u001b[0m\u001b[0;34m\u001b[0m\u001b[0m\n\u001b[1;32m      5\u001b[0m \u001b[0mgenres\u001b[0m\u001b[0;34m.\u001b[0m\u001b[0msort\u001b[0m\u001b[0;34m(\u001b[0m\u001b[0;34m)\u001b[0m \u001b[0;31m# sort alphabetically\u001b[0m\u001b[0;34m\u001b[0m\u001b[0;34m\u001b[0m\u001b[0m\n",
      "\u001b[0;31mNameError\u001b[0m: name 'movies' is not defined"
     ]
    }
   ],
   "source": [
    "# hide\n",
    "df = pd.read_json(movies) # load movies data\n",
    "genres = df['Major_Genre'].unique() # get unique field values\n",
    "genres = list(filter(lambda d: d is not None, genres)) # filter out None values\n",
    "genres.sort() # sort alphabetically"
   ]
  },
  {
   "cell_type": "code",
   "execution_count": 4,
   "metadata": {},
   "outputs": [],
   "source": [
    "#hide\n",
    "mpaa = ['G', 'PG', 'PG-13', 'R', 'NC-17', 'Not Rated']"
   ]
  },
  {
   "cell_type": "markdown",
   "metadata": {},
   "source": [
    "### Example 1: DropDown"
   ]
  },
  {
   "cell_type": "code",
   "execution_count": 37,
   "metadata": {},
   "outputs": [
    {
     "ename": "NameError",
     "evalue": "name 'genres' is not defined",
     "output_type": "error",
     "traceback": [
      "\u001b[0;31m---------------------------------------------------------------------------\u001b[0m",
      "\u001b[0;31mNameError\u001b[0m                                 Traceback (most recent call last)",
      "\u001b[0;32m<ipython-input-37-ca0c30357ca1>\u001b[0m in \u001b[0;36m<module>\u001b[0;34m\u001b[0m\n\u001b[1;32m      5\u001b[0m     \u001b[0mfields\u001b[0m\u001b[0;34m=\u001b[0m\u001b[0;34m[\u001b[0m\u001b[0;34m'Major_Genre'\u001b[0m\u001b[0;34m,\u001b[0m \u001b[0;34m'MPAA_Rating'\u001b[0m\u001b[0;34m]\u001b[0m\u001b[0;34m,\u001b[0m\u001b[0;34m\u001b[0m\u001b[0;34m\u001b[0m\u001b[0m\n\u001b[1;32m      6\u001b[0m     \u001b[0minit\u001b[0m\u001b[0;34m=\u001b[0m\u001b[0;34m{\u001b[0m\u001b[0;34m'Major_Genre'\u001b[0m\u001b[0;34m:\u001b[0m \u001b[0;34m'Drama'\u001b[0m\u001b[0;34m,\u001b[0m \u001b[0;34m'MPAA_Rating'\u001b[0m\u001b[0;34m:\u001b[0m \u001b[0;34m'R'\u001b[0m\u001b[0;34m}\u001b[0m\u001b[0;34m,\u001b[0m\u001b[0;34m\u001b[0m\u001b[0;34m\u001b[0m\u001b[0m\n\u001b[0;32m----> 7\u001b[0;31m     \u001b[0mbind\u001b[0m\u001b[0;34m=\u001b[0m\u001b[0;34m{\u001b[0m\u001b[0;34m'Major_Genre'\u001b[0m\u001b[0;34m:\u001b[0m \u001b[0malt\u001b[0m\u001b[0;34m.\u001b[0m\u001b[0mbinding_select\u001b[0m\u001b[0;34m(\u001b[0m\u001b[0moptions\u001b[0m\u001b[0;34m=\u001b[0m\u001b[0mgenres\u001b[0m\u001b[0;34m)\u001b[0m\u001b[0;34m,\u001b[0m \u001b[0;34m'MPAA_Rating'\u001b[0m\u001b[0;34m:\u001b[0m \u001b[0malt\u001b[0m\u001b[0;34m.\u001b[0m\u001b[0mbinding_radio\u001b[0m\u001b[0;34m(\u001b[0m\u001b[0moptions\u001b[0m\u001b[0;34m=\u001b[0m\u001b[0mmpaa\u001b[0m\u001b[0;34m)\u001b[0m\u001b[0;34m}\u001b[0m\u001b[0;34m\u001b[0m\u001b[0;34m\u001b[0m\u001b[0m\n\u001b[0m\u001b[1;32m      8\u001b[0m )\n\u001b[1;32m      9\u001b[0m \u001b[0;34m\u001b[0m\u001b[0m\n",
      "\u001b[0;31mNameError\u001b[0m: name 'genres' is not defined"
     ]
    }
   ],
   "source": [
    "# single-value selection over [Major_Genre, MPAA_Rating] pairs\n",
    "# use specific hard-wired values as the initial selected values\n",
    "selection = alt.selection_single(\n",
    "    name='Select',\n",
    "    fields=['Major_Genre', 'MPAA_Rating'],\n",
    "    init={'Major_Genre': 'Drama', 'MPAA_Rating': 'R'},\n",
    "    bind={'Major_Genre': alt.binding_select(options=genres), 'MPAA_Rating': alt.binding_radio(options=mpaa)}\n",
    ")\n",
    "  \n",
    "# scatter plot, modify opacity based on selection\n",
    "alt.Chart(movies).mark_circle().add_selection(\n",
    "    selection\n",
    ").encode(\n",
    "    x='Rotten_Tomatoes_Rating:Q',\n",
    "    y='IMDB_Rating:Q',\n",
    "    tooltip='Title:N',\n",
    "    opacity=alt.condition(selection, alt.value(0.75), alt.value(0.05))\n",
    ")"
   ]
  },
  {
   "cell_type": "markdown",
   "metadata": {},
   "source": [
    "### Example 2: Tooltips"
   ]
  },
  {
   "cell_type": "code",
   "execution_count": 39,
   "metadata": {},
   "outputs": [
    {
     "ename": "NameError",
     "evalue": "name 'movies' is not defined",
     "output_type": "error",
     "traceback": [
      "\u001b[0;31m---------------------------------------------------------------------------\u001b[0m",
      "\u001b[0;31mNameError\u001b[0m                                 Traceback (most recent call last)",
      "\u001b[0;32m<ipython-input-39-b50f012c6ec6>\u001b[0m in \u001b[0;36m<module>\u001b[0;34m\u001b[0m\n\u001b[0;32m----> 1\u001b[0;31m alt.Chart(movies).mark_circle().add_selection(\n\u001b[0m\u001b[1;32m      2\u001b[0m     \u001b[0malt\u001b[0m\u001b[0;34m.\u001b[0m\u001b[0mselection_interval\u001b[0m\u001b[0;34m(\u001b[0m\u001b[0mbind\u001b[0m\u001b[0;34m=\u001b[0m\u001b[0;34m'scales'\u001b[0m\u001b[0;34m,\u001b[0m \u001b[0mencodings\u001b[0m\u001b[0;34m=\u001b[0m\u001b[0;34m[\u001b[0m\u001b[0;34m'x'\u001b[0m\u001b[0;34m]\u001b[0m\u001b[0;34m)\u001b[0m\u001b[0;34m\u001b[0m\u001b[0;34m\u001b[0m\u001b[0m\n\u001b[1;32m      3\u001b[0m \u001b[0;34m)\u001b[0m\u001b[0;34m.\u001b[0m\u001b[0mencode\u001b[0m\u001b[0;34m(\u001b[0m\u001b[0;34m\u001b[0m\u001b[0;34m\u001b[0m\u001b[0m\n\u001b[1;32m      4\u001b[0m     \u001b[0mx\u001b[0m\u001b[0;34m=\u001b[0m\u001b[0;34m'Rotten_Tomatoes_Rating:Q'\u001b[0m\u001b[0;34m,\u001b[0m\u001b[0;34m\u001b[0m\u001b[0;34m\u001b[0m\u001b[0m\n\u001b[1;32m      5\u001b[0m     \u001b[0my\u001b[0m\u001b[0;34m=\u001b[0m\u001b[0malt\u001b[0m\u001b[0;34m.\u001b[0m\u001b[0mY\u001b[0m\u001b[0;34m(\u001b[0m\u001b[0;34m'IMDB_Rating:Q'\u001b[0m\u001b[0;34m,\u001b[0m \u001b[0maxis\u001b[0m\u001b[0;34m=\u001b[0m\u001b[0malt\u001b[0m\u001b[0;34m.\u001b[0m\u001b[0mAxis\u001b[0m\u001b[0;34m(\u001b[0m\u001b[0mminExtent\u001b[0m\u001b[0;34m=\u001b[0m\u001b[0;36m30\u001b[0m\u001b[0;34m)\u001b[0m\u001b[0;34m)\u001b[0m\u001b[0;34m,\u001b[0m \u001b[0;31m# use min extent to stabilize axis title placement\u001b[0m\u001b[0;34m\u001b[0m\u001b[0;34m\u001b[0m\u001b[0m\n",
      "\u001b[0;31mNameError\u001b[0m: name 'movies' is not defined"
     ]
    }
   ],
   "source": [
    "alt.Chart(movies).mark_circle().add_selection(\n",
    "    alt.selection_interval(bind='scales', encodings=['x'])\n",
    ").encode(\n",
    "    x='Rotten_Tomatoes_Rating:Q',\n",
    "    y=alt.Y('IMDB_Rating:Q', axis=alt.Axis(minExtent=30)), # use min extent to stabilize axis title placement\n",
    "    tooltip=['Title:N', 'Release_Date:N', 'IMDB_Rating:Q', 'Rotten_Tomatoes_Rating:Q']\n",
    ").properties(\n",
    "    width=600,\n",
    "    height=400\n",
    ")"
   ]
  },
  {
   "cell_type": "markdown",
   "metadata": {},
   "source": [
    "### Example 3: More Tooltips"
   ]
  },
  {
   "cell_type": "code",
   "execution_count": 7,
   "metadata": {
    "scrolled": true
   },
   "outputs": [
    {
     "data": {
      "text/html": [
       "\n",
       "<div id=\"altair-viz-9283d3681fd24aafa3d1e2f9ad193ecf\"></div>\n",
       "<script type=\"text/javascript\">\n",
       "  (function(spec, embedOpt){\n",
       "    const outputDiv = document.getElementById(\"altair-viz-9283d3681fd24aafa3d1e2f9ad193ecf\");\n",
       "    const paths = {\n",
       "      \"vega\": \"https://cdn.jsdelivr.net/npm//vega@5?noext\",\n",
       "      \"vega-lib\": \"https://cdn.jsdelivr.net/npm//vega-lib?noext\",\n",
       "      \"vega-lite\": \"https://cdn.jsdelivr.net/npm//vega-lite@4.0.2?noext\",\n",
       "      \"vega-embed\": \"https://cdn.jsdelivr.net/npm//vega-embed@6?noext\",\n",
       "    };\n",
       "\n",
       "    function loadScript(lib) {\n",
       "      return new Promise(function(resolve, reject) {\n",
       "        var s = document.createElement('script');\n",
       "        s.src = paths[lib];\n",
       "        s.async = true;\n",
       "        s.onload = () => resolve(paths[lib]);\n",
       "        s.onerror = () => reject(`Error loading script: ${paths[lib]}`);\n",
       "        document.getElementsByTagName(\"head\")[0].appendChild(s);\n",
       "      });\n",
       "    }\n",
       "\n",
       "    function showError(err) {\n",
       "      outputDiv.innerHTML = `<div class=\"error\" style=\"color:red;\">${err}</div>`;\n",
       "      throw err;\n",
       "    }\n",
       "\n",
       "    function displayChart(vegaEmbed) {\n",
       "      vegaEmbed(outputDiv, spec, embedOpt)\n",
       "        .catch(err => showError(`Javascript Error: ${err.message}<br>This usually means there's a typo in your chart specification. See the javascript console for the full traceback.`));\n",
       "    }\n",
       "\n",
       "    if(typeof define === \"function\" && define.amd) {\n",
       "      requirejs.config({paths});\n",
       "      require([\"vega-embed\"], displayChart, err => showError(`Error loading script: ${err.message}`));\n",
       "    } else if (typeof vegaEmbed === \"function\") {\n",
       "      displayChart(vegaEmbed);\n",
       "    } else {\n",
       "      loadScript(\"vega\")\n",
       "        .then(() => loadScript(\"vega-lite\"))\n",
       "        .then(() => loadScript(\"vega-embed\"))\n",
       "        .catch(showError)\n",
       "        .then(() => displayChart(vegaEmbed));\n",
       "    }\n",
       "  })({\"config\": {\"view\": {\"continuousWidth\": 400, \"continuousHeight\": 300}}, \"layer\": [{\"mark\": \"line\", \"encoding\": {\"color\": {\"type\": \"nominal\", \"field\": \"symbol\"}, \"x\": {\"type\": \"temporal\", \"field\": \"date\"}, \"y\": {\"type\": \"quantitative\", \"field\": \"price\", \"scale\": {\"type\": \"log\"}}}}, {\"mark\": {\"type\": \"rule\", \"color\": \"#aaa\"}, \"encoding\": {\"x\": {\"type\": \"temporal\", \"field\": \"date\"}}, \"transform\": [{\"filter\": {\"selection\": \"selector002\"}}]}, {\"mark\": \"circle\", \"encoding\": {\"color\": {\"type\": \"nominal\", \"field\": \"symbol\"}, \"opacity\": {\"condition\": {\"value\": 1, \"selection\": \"selector002\"}, \"value\": 0}, \"x\": {\"type\": \"temporal\", \"field\": \"date\"}, \"y\": {\"type\": \"quantitative\", \"field\": \"price\", \"scale\": {\"type\": \"log\"}}}, \"selection\": {\"selector002\": {\"type\": \"single\", \"encodings\": [\"x\"], \"on\": \"mouseover\", \"nearest\": true, \"empty\": \"none\"}}}, {\"mark\": {\"type\": \"text\", \"align\": \"left\", \"dx\": 5, \"dy\": -5, \"stroke\": \"white\", \"strokeWidth\": 2}, \"encoding\": {\"color\": {\"type\": \"nominal\", \"field\": \"symbol\"}, \"text\": {\"type\": \"quantitative\", \"field\": \"price\"}, \"x\": {\"type\": \"temporal\", \"field\": \"date\"}, \"y\": {\"type\": \"quantitative\", \"field\": \"price\", \"scale\": {\"type\": \"log\"}}}, \"transform\": [{\"filter\": {\"selection\": \"selector002\"}}]}, {\"mark\": {\"type\": \"text\", \"align\": \"left\", \"dx\": 5, \"dy\": -5}, \"encoding\": {\"color\": {\"type\": \"nominal\", \"field\": \"symbol\"}, \"text\": {\"type\": \"quantitative\", \"field\": \"price\"}, \"x\": {\"type\": \"temporal\", \"field\": \"date\"}, \"y\": {\"type\": \"quantitative\", \"field\": \"price\", \"scale\": {\"type\": \"log\"}}}, \"transform\": [{\"filter\": {\"selection\": \"selector002\"}}]}], \"data\": {\"url\": \"https://vega.github.io/vega-datasets/data/stocks.csv\"}, \"height\": 400, \"width\": 700, \"$schema\": \"https://vega.github.io/schema/vega-lite/v4.0.2.json\"}, {\"mode\": \"vega-lite\"});\n",
       "</script>"
      ],
      "text/plain": [
       "alt.LayerChart(...)"
      ]
     },
     "execution_count": 7,
     "metadata": {},
     "output_type": "execute_result"
    }
   ],
   "source": [
    "# select a point for which to provide details-on-demand\n",
    "label = alt.selection_single(\n",
    "    encodings=['x'], # limit selection to x-axis value\n",
    "    on='mouseover',  # select on mouseover events\n",
    "    nearest=True,    # select data point nearest the cursor\n",
    "    empty='none'     # empty selection includes no data points\n",
    ")\n",
    "\n",
    "# define our base line chart of stock prices\n",
    "base = alt.Chart().mark_line().encode(\n",
    "    alt.X('date:T'),\n",
    "    alt.Y('price:Q', scale=alt.Scale(type='log')),\n",
    "    alt.Color('symbol:N')\n",
    ")\n",
    "\n",
    "alt.layer(\n",
    "    base, # base line chart\n",
    "    \n",
    "    # add a rule mark to serve as a guide line\n",
    "    alt.Chart().mark_rule(color='#aaa').encode(\n",
    "        x='date:T'\n",
    "    ).transform_filter(label),\n",
    "    \n",
    "    # add circle marks for selected time points, hide unselected points\n",
    "    base.mark_circle().encode(\n",
    "        opacity=alt.condition(label, alt.value(1), alt.value(0))\n",
    "    ).add_selection(label),\n",
    "\n",
    "    # add white stroked text to provide a legible background for labels\n",
    "    base.mark_text(align='left', dx=5, dy=-5, stroke='white', strokeWidth=2).encode(\n",
    "        text='price:Q'\n",
    "    ).transform_filter(label),\n",
    "\n",
    "    # add text labels for stock prices\n",
    "    base.mark_text(align='left', dx=5, dy=-5).encode(\n",
    "        text='price:Q'\n",
    "    ).transform_filter(label),\n",
    "    \n",
    "    data=stocks\n",
    ").properties(\n",
    "    width=700,\n",
    "    height=400\n",
    ")"
   ]
  },
  {
   "cell_type": "markdown",
   "metadata": {},
   "source": [
    "## Data Tables\n",
    "\n",
    "You can display tables per the usual way in your blog:"
   ]
  },
  {
   "cell_type": "code",
   "execution_count": 11,
   "metadata": {},
   "outputs": [
    {
     "data": {
      "text/html": [
       "<div>\n",
       "<style scoped>\n",
       "    .dataframe tbody tr th:only-of-type {\n",
       "        vertical-align: middle;\n",
       "    }\n",
       "\n",
       "    .dataframe tbody tr th {\n",
       "        vertical-align: top;\n",
       "    }\n",
       "\n",
       "    .dataframe thead th {\n",
       "        text-align: right;\n",
       "    }\n",
       "</style>\n",
       "<table border=\"1\" class=\"dataframe\">\n",
       "  <thead>\n",
       "    <tr style=\"text-align: right;\">\n",
       "      <th></th>\n",
       "      <th>Title</th>\n",
       "      <th>Worldwide_Gross</th>\n",
       "      <th>Production_Budget</th>\n",
       "      <th>Distributor</th>\n",
       "      <th>MPAA_Rating</th>\n",
       "      <th>IMDB_Rating</th>\n",
       "      <th>Rotten_Tomatoes_Rating</th>\n",
       "    </tr>\n",
       "  </thead>\n",
       "  <tbody>\n",
       "    <tr>\n",
       "      <th>0</th>\n",
       "      <td>The Land Girls</td>\n",
       "      <td>146083.0</td>\n",
       "      <td>8000000.0</td>\n",
       "      <td>Gramercy</td>\n",
       "      <td>R</td>\n",
       "      <td>6.1</td>\n",
       "      <td>NaN</td>\n",
       "    </tr>\n",
       "    <tr>\n",
       "      <th>1</th>\n",
       "      <td>First Love, Last Rites</td>\n",
       "      <td>10876.0</td>\n",
       "      <td>300000.0</td>\n",
       "      <td>Strand</td>\n",
       "      <td>R</td>\n",
       "      <td>6.9</td>\n",
       "      <td>NaN</td>\n",
       "    </tr>\n",
       "    <tr>\n",
       "      <th>2</th>\n",
       "      <td>I Married a Strange Person</td>\n",
       "      <td>203134.0</td>\n",
       "      <td>250000.0</td>\n",
       "      <td>Lionsgate</td>\n",
       "      <td>None</td>\n",
       "      <td>6.8</td>\n",
       "      <td>NaN</td>\n",
       "    </tr>\n",
       "    <tr>\n",
       "      <th>3</th>\n",
       "      <td>Let's Talk About Sex</td>\n",
       "      <td>373615.0</td>\n",
       "      <td>300000.0</td>\n",
       "      <td>Fine Line</td>\n",
       "      <td>None</td>\n",
       "      <td>NaN</td>\n",
       "      <td>13.0</td>\n",
       "    </tr>\n",
       "    <tr>\n",
       "      <th>4</th>\n",
       "      <td>Slam</td>\n",
       "      <td>1087521.0</td>\n",
       "      <td>1000000.0</td>\n",
       "      <td>Trimark</td>\n",
       "      <td>R</td>\n",
       "      <td>3.4</td>\n",
       "      <td>62.0</td>\n",
       "    </tr>\n",
       "  </tbody>\n",
       "</table>\n",
       "</div>"
      ],
      "text/plain": [
       "                        Title  Worldwide_Gross  Production_Budget Distributor  \\\n",
       "0              The Land Girls         146083.0          8000000.0    Gramercy   \n",
       "1      First Love, Last Rites          10876.0           300000.0      Strand   \n",
       "2  I Married a Strange Person         203134.0           250000.0   Lionsgate   \n",
       "3        Let's Talk About Sex         373615.0           300000.0   Fine Line   \n",
       "4                        Slam        1087521.0          1000000.0     Trimark   \n",
       "\n",
       "  MPAA_Rating  IMDB_Rating  Rotten_Tomatoes_Rating  \n",
       "0           R          6.1                     NaN  \n",
       "1           R          6.9                     NaN  \n",
       "2        None          6.8                     NaN  \n",
       "3        None          NaN                    13.0  \n",
       "4           R          3.4                    62.0  "
      ]
     },
     "execution_count": 11,
     "metadata": {},
     "output_type": "execute_result"
    }
   ],
   "source": [
    "movies = 'https://vega.github.io/vega-datasets/data/movies.json'\n",
    "df = pd.read_json(movies)\n",
    "# display table with pandas\n",
    "df[['Title', 'Worldwide_Gross', \n",
    "    'Production_Budget', 'Distributor', 'MPAA_Rating', 'IMDB_Rating', 'Rotten_Tomatoes_Rating']].head()"
   ]
  },
  {
   "cell_type": "markdown",
   "metadata": {},
   "source": [
    "## Images\n",
    "\n",
    "### Local Images\n",
    "\n",
    "You can reference local images and they will be copied and rendered on your blog automatically.  You can include these with the following markdown syntax:\n",
    "\n",
    "`![](my_icons/fastai_logo.png)`"
   ]
  },
  {
   "cell_type": "markdown",
   "metadata": {},
   "source": [
    "![](my_icons/fastai_logo.png)"
   ]
  },
  {
   "cell_type": "markdown",
   "metadata": {},
   "source": [
    "### Remote Images\n",
    "\n",
    "Remote images can be included with the following markdown syntax:\n",
    "\n",
    "`![](https://image.flaticon.com/icons/svg/36/36686.svg)`"
   ]
  },
  {
   "cell_type": "markdown",
   "metadata": {},
   "source": [
    "![](https://image.flaticon.com/icons/svg/36/36686.svg)"
   ]
  },
  {
   "cell_type": "markdown",
   "metadata": {},
   "source": [
    "### Animated Gifs\n",
    "\n",
    "Animated Gifs work, too!\n",
    "\n",
    "`![](https://upload.wikimedia.org/wikipedia/commons/7/71/ChessPawnSpecialMoves.gif)`"
   ]
  },
  {
   "cell_type": "markdown",
   "metadata": {},
   "source": [
    "![](https://upload.wikimedia.org/wikipedia/commons/7/71/ChessPawnSpecialMoves.gif)"
   ]
  },
  {
   "cell_type": "markdown",
   "metadata": {},
   "source": [
    "### Captions\n",
    "\n",
    "You can include captions with markdown images like this:\n",
    "\n",
    "```\n",
    "![](https://www.fast.ai/images/fastai_paper/show_batch.png \"Credit: https://www.fast.ai/2020/02/13/fastai-A-Layered-API-for-Deep-Learning/\")\n",
    "```\n",
    "\n",
    "\n",
    "![](https://www.fast.ai/images/fastai_paper/show_batch.png \"Credit: https://www.fast.ai/2020/02/13/fastai-A-Layered-API-for-Deep-Learning/\")\n",
    "\n",
    "\n",
    "\n"
   ]
  },
  {
   "cell_type": "markdown",
   "metadata": {},
   "source": [
    "# Other Elements"
   ]
  },
  {
   "cell_type": "markdown",
   "metadata": {},
   "source": [
    "## Tweetcards\n",
    "\n",
    "Typing `> twitter: https://twitter.com/jakevdp/status/1204765621767901185?s=20` will render this:\n",
    "\n",
    "> twitter: https://twitter.com/jakevdp/status/1204765621767901185?s=20"
   ]
  },
  {
   "cell_type": "markdown",
   "metadata": {},
   "source": [
    "## Youtube Videos\n",
    "\n",
    "Typing `> youtube: https://youtu.be/XfoYk_Z5AkI` will render this:\n",
    "\n",
    "\n",
    "> youtube: https://youtu.be/XfoYk_Z5AkI"
   ]
  },
  {
   "cell_type": "markdown",
   "metadata": {},
   "source": [
    "## Boxes / Callouts \n",
    "\n",
    "Typing `> Warning: There will be no second warning!` will render this:\n",
    "\n",
    "\n",
    "> Warning: There will be no second warning!\n",
    "\n",
    "\n",
    "\n",
    "Typing `> Important: Pay attention! It's important.` will render this:\n",
    "\n",
    "> Important: Pay attention! It's important.\n",
    "\n",
    "\n",
    "\n",
    "Typing `> Tip: This is my tip.` will render this:\n",
    "\n",
    "> Tip: This is my tip.\n",
    "\n",
    "\n",
    "\n",
    "Typing `> Note: Take note of this.` will render this:\n",
    "\n",
    "> Note: Take note of this.\n",
    "\n",
    "\n",
    "\n",
    "Typing `> Note: A doc link to [an example website: fast.ai](https://www.fast.ai/) should also work fine.` will render in the docs:\n",
    "\n",
    "> Note: A doc link to [an example website: fast.ai](https://www.fast.ai/) should also work fine."
   ]
  },
  {
   "cell_type": "markdown",
   "metadata": {},
   "source": [
    "## Footnotes\n",
    "\n",
    "You can have footnotes in notebooks, however the syntax is different compared to markdown documents. [This guide provides more detail about this syntax](https://github.com/fastai/fastpages/blob/master/_fastpages_docs/NOTEBOOK_FOOTNOTES.md), which looks like this:\n",
    "\n",
    "```\n",
    "{% raw %}For example, here is a footnote {% fn 1 %}.\n",
    "And another {% fn 2 %}\n",
    "{{ 'This is the footnote.' | fndetail: 1 }}\n",
    "{{ 'This is the other footnote. You can even have a [link](www.github.com)!' | fndetail: 2 }}{% endraw %}\n",
    "```\n",
    "\n",
    "For example, here is a footnote {% fn 1 %}.\n",
    "\n",
    "And another {% fn 2 %}\n",
    "\n",
    "{{ 'This is the footnote.' | fndetail: 1 }}\n",
    "{{ 'This is the other footnote. You can even have a [link](www.github.com)!' | fndetail: 2 }}"
   ]
  },
  {
   "cell_type": "markdown",
   "metadata": {},
   "source": [
    "## Footnotes\n",
    "\n",
    "{{ 'Veja o post sobre [gradient descent](todo_grad_desc) para mais detalhes.' | fndetail: 1 }}\n",
    "{{ 'Mais precisamente, deveríamos estar falando de *massa* ao invés de *peso*. Mas no nosse approach isso não faz diferença.' | fndetail: 1 }}"
   ]
  },
  {
   "cell_type": "code",
   "execution_count": null,
   "metadata": {},
   "outputs": [],
   "source": []
  }
 ],
 "metadata": {
  "kernelspec": {
   "display_name": "Python 3",
   "language": "python",
   "name": "python3"
  },
  "language_info": {
   "codemirror_mode": {
    "name": "ipython",
    "version": 3
   },
   "file_extension": ".py",
   "mimetype": "text/x-python",
   "name": "python",
   "nbconvert_exporter": "python",
   "pygments_lexer": "ipython3",
   "version": "3.7.7"
  }
 },
 "nbformat": 4,
 "nbformat_minor": 4
}
